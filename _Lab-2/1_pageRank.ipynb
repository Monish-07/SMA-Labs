{
 "cells": [
  {
   "cell_type": "code",
   "execution_count": null,
   "metadata": {},
   "outputs": [],
   "source": [
    "import numpy as np\n",
    "\n",
    "\n",
    "def pagerank(links, damping_factor=0.85, epsilon=1e-8, max_iterations=100):\n",
    "    # Get all unique URLs\n",
    "    all_urls = set(links.keys()).union(\n",
    "        set([url for link_list in links.values() for url in link_list]))\n",
    "\n",
    "    # Create a dictionary to store the indices of URLs\n",
    "    url_indices = {url: index for index, url in enumerate(all_urls)}\n",
    "\n",
    "    # Create an adjacency matrix with weights\n",
    "    num_urls = len(all_urls)\n",
    "    adjacency_matrix = np.zeros((num_urls, num_urls))\n",
    "    for source_url, destination_urls in links.items():\n",
    "        source_index = url_indices[source_url]\n",
    "        for destination_url in destination_urls:\n",
    "            destination_index = url_indices[destination_url]\n",
    "            adjacency_matrix[destination_index, source_index] = 1\n",
    "\n",
    "    # Normalize the adjacency matrix\n",
    "    adj_matrix_normalized = adjacency_matrix / np.sum(adjacency_matrix, axis=0)\n",
    "\n",
    "    # Initialize the PageRank vector\n",
    "    pagerank_vector = np.ones(num_urls) / num_urls\n",
    "\n",
    "    for _ in range(max_iterations):\n",
    "        prev_pagerank_vector = pagerank_vector.copy()\n",
    "\n",
    "        # Calculate the new PageRank vector\n",
    "        pagerank_vector = (1 - damping_factor) / num_urls + \\\n",
    "            damping_factor * np.dot(adj_matrix_normalized, pagerank_vector)\n",
    "\n",
    "        # Check for convergence\n",
    "        if np.linalg.norm(pagerank_vector - prev_pagerank_vector) < epsilon:\n",
    "            break\n",
    "\n",
    "    # Sort the URLs based on their PageRank scores\n",
    "    sorted_urls = sorted(\n",
    "        all_urls, key=lambda url: pagerank_vector[url_indices[url]], reverse=True)\n",
    "\n",
    "    return {url: pagerank_vector[url_indices[url]] for url in sorted_urls}\n",
    "\n",
    "\n",
    "# Example usage\n",
    "social_media_links = {\n",
    "    'profile1': ['profile2', 'profile3'],\n",
    "    'profile2': ['profile1', 'profile3'],\n",
    "    'profile3': ['profile1', 'profile2', 'profile4'],\n",
    "    'profile4': ['profile1', 'profile3']\n",
    "}\n",
    "\n",
    "pagerank_scores = pagerank(social_media_links)\n",
    "print(\"PageRank scores:\")\n",
    "for url, score in pagerank_scores.items():\n",
    "    print(url, \":\", score)\n"
   ]
  },
  {
   "cell_type": "code",
   "execution_count": 1,
   "metadata": {},
   "outputs": [],
   "source": [
    "import numpy as np"
   ]
  },
  {
   "cell_type": "code",
   "execution_count": 2,
   "metadata": {},
   "outputs": [],
   "source": [
    "def pagerank(links, damping_factor=0.85, epsilon=1e-8, max_iterations=100):\n",
    "    # Get all unique URLs\n",
    "    all_urls = set(links.keys()).union(\n",
    "        set([url for link_list in links.values() for url in link_list]))\n",
    "\n",
    "    # Create a dictionary to store the indices of URLs\n",
    "    url_indices = {url: index for index, url in enumerate(all_urls)}\n",
    "\n",
    "    # Create an adjacency matrix with weights\n",
    "    num_urls = len(all_urls)\n",
    "    adjacency_matrix = np.zeros((num_urls, num_urls))\n",
    "    for source_url, destination_urls in links.items():\n",
    "        source_index = url_indices[source_url]\n",
    "        for destination_url in destination_urls:\n",
    "            destination_index = url_indices[destination_url]\n",
    "            adjacency_matrix[destination_index, source_index] = 1\n",
    "\n",
    "    # Normalize the adjacency matrix\n",
    "    adj_matrix_normalized = adjacency_matrix / np.sum(adjacency_matrix, axis=0)\n",
    "\n",
    "    # Initialize the PageRank vector\n",
    "    pagerank_vector = np.ones(num_urls) / num_urls\n",
    "\n",
    "    for _ in range(max_iterations):\n",
    "        prev_pagerank_vector = pagerank_vector.copy()\n",
    "\n",
    "        # Calculate the new PageRank vector\n",
    "        pagerank_vector = (1 - damping_factor) / num_urls + \\\n",
    "            damping_factor * np.dot(adj_matrix_normalized, pagerank_vector)\n",
    "\n",
    "        # Check for convergence\n",
    "        if np.linalg.norm(pagerank_vector - prev_pagerank_vector) < epsilon:\n",
    "            break\n",
    "\n",
    "    # Sort the URLs based on their PageRank scores\n",
    "    sorted_urls = sorted(\n",
    "        all_urls, key=lambda url: pagerank_vector[url_indices[url]], reverse=True)\n",
    "\n",
    "    return {url: pagerank_vector[url_indices[url]] for url in sorted_urls}"
   ]
  },
  {
   "cell_type": "code",
   "execution_count": 3,
   "metadata": {},
   "outputs": [],
   "source": [
    "# Example usage\n",
    "social_media_links = {\n",
    "    'profile1': ['profile2', 'profile3'],\n",
    "    'profile2': ['profile1', 'profile3'],\n",
    "    'profile3': ['profile1', 'profile2', 'profile4'],\n",
    "    'profile4': ['profile1', 'profile3']\n",
    "}"
   ]
  },
  {
   "cell_type": "code",
   "execution_count": 4,
   "metadata": {},
   "outputs": [
    {
     "name": "stdout",
     "output_type": "stream",
     "text": [
      "PageRank scores:\n",
      "profile3 : 0.3245614037203445\n",
      "profile1 : 0.29229506689032236\n",
      "profile2 : 0.2536844652028961\n",
      "profile4 : 0.129459064186437\n"
     ]
    }
   ],
   "source": [
    "pagerank_scores = pagerank(social_media_links)\n",
    "print(\"PageRank scores:\")\n",
    "for url, score in pagerank_scores.items():\n",
    "    print(url, \":\", score)"
   ]
  }
 ],
 "metadata": {
  "kernelspec": {
   "display_name": "base",
   "language": "python",
   "name": "python3"
  },
  "language_info": {
   "codemirror_mode": {
    "name": "ipython",
    "version": 3
   },
   "file_extension": ".py",
   "mimetype": "text/x-python",
   "name": "python",
   "nbconvert_exporter": "python",
   "pygments_lexer": "ipython3",
   "version": "3.9.12"
  },
  "orig_nbformat": 4
 },
 "nbformat": 4,
 "nbformat_minor": 2
}
