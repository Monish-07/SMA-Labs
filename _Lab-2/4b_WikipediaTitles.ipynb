{
 "cells": [
  {
   "cell_type": "code",
   "execution_count": null,
   "metadata": {},
   "outputs": [],
   "source": [
    "import requests\n",
    "from bs4 import BeautifulSoup\n",
    "\n",
    "def retrieve_titles(url):\n",
    "    response = requests.get(url)\n",
    "    soup = BeautifulSoup(response.content, 'html.parser')\n",
    "\n",
    "    titles = []\n",
    "    title_tag = soup.find('h1', class_='firstHeading')\n",
    "    if title_tag:\n",
    "        titles.append(title_tag.text.strip())\n",
    "\n",
    "    return titles\n",
    "\n",
    "# Example usage\n",
    "wikipedia_url = 'https://en.wikipedia.org/wiki/Python'\n",
    "titles = retrieve_titles(wikipedia_url)\n",
    "print(\"Titles retrieved from the webpage:\")\n",
    "for title in titles:\n",
    "    print(title)"
   ]
  },
  {
   "cell_type": "code",
   "execution_count": 1,
   "metadata": {},
   "outputs": [],
   "source": [
    "import requests\n",
    "from bs4 import BeautifulSoup"
   ]
  },
  {
   "cell_type": "code",
   "execution_count": 2,
   "metadata": {},
   "outputs": [],
   "source": [
    "def retrieve_titles(url):\n",
    "    response = requests.get(url)\n",
    "    soup = BeautifulSoup(response.content, 'html.parser')\n",
    "\n",
    "    titles = []\n",
    "    title_tag = soup.find('h1', class_='firstHeading')\n",
    "    if title_tag:\n",
    "        titles.append(title_tag.text.strip())\n",
    "\n",
    "    return titles"
   ]
  },
  {
   "cell_type": "code",
   "execution_count": 3,
   "metadata": {},
   "outputs": [
    {
     "name": "stdout",
     "output_type": "stream",
     "text": [
      "Titles retrieved from the webpage:\n",
      "Python\n"
     ]
    }
   ],
   "source": [
    "# Example usage\n",
    "wikipedia_url = 'https://en.wikipedia.org/wiki/Python'\n",
    "titles = retrieve_titles(wikipedia_url)\n",
    "print(\"Titles retrieved from the webpage:\")\n",
    "for title in titles:\n",
    "    print(title)"
   ]
  }
 ],
 "metadata": {
  "kernelspec": {
   "display_name": "base",
   "language": "python",
   "name": "python3"
  },
  "language_info": {
   "codemirror_mode": {
    "name": "ipython",
    "version": 3
   },
   "file_extension": ".py",
   "mimetype": "text/x-python",
   "name": "python",
   "nbconvert_exporter": "python",
   "pygments_lexer": "ipython3",
   "version": "3.9.12"
  },
  "orig_nbformat": 4
 },
 "nbformat": 4,
 "nbformat_minor": 2
}
