{
 "cells": [
  {
   "cell_type": "code",
   "execution_count": null,
   "metadata": {},
   "outputs": [],
   "source": [
    "from pytrends.request import TrendReq\n",
    "pytrends = TrendReq()\n",
    "\n",
    "keyword = \"Typescript\"\n",
    "pytrends.build_payload(kw_list=[keyword])\n",
    "\n",
    "interest_over_time_df = pytrends.interest_over_time()\n",
    "print(interest_over_time_df)\n",
    "\n",
    "from pytrendsdaily import getDailyData\n",
    "# Set up query parameters\n",
    "keyword = \"Typescript\"\n",
    "start_year = 2018\n",
    "end_year = 2020\n",
    "# Get daily historical data\n",
    "historical_data = getDailyData(keyword, start_year, end_year, verbose=False)\n",
    "print(historical_data)\n",
    "\n",
    "interest_by_region_df = pytrends.interest_by_region()\n",
    "print(interest_by_region_df)\n",
    "\n",
    "top_charts_df = pytrends.top_charts(date='2023', hl='en-US', tz=360)\n",
    "print(top_charts_df)\n",
    "\n",
    "related_queries_dict = pytrends.related_queries()\n",
    "print(related_queries_dict[keyword])\n",
    "\n",
    "keyword_suggestions = pytrends.suggestions(keyword)\n",
    "print(keyword_suggestions)"
   ]
  },
  {
   "cell_type": "code",
   "execution_count": 12,
   "metadata": {},
   "outputs": [
    {
     "name": "stdout",
     "output_type": "stream",
     "text": [
      "Requirement already satisfied: pytrends in c:\\users\\monis\\anaconda3\\lib\\site-packages (4.9.2)\n",
      "Requirement already satisfied: pandas>=0.25 in c:\\users\\monis\\anaconda3\\lib\\site-packages (from pytrends) (1.4.2)\n",
      "Requirement already satisfied: requests>=2.0 in c:\\users\\monis\\anaconda3\\lib\\site-packages (from pytrends) (2.27.1)\n",
      "Requirement already satisfied: lxml in c:\\users\\monis\\anaconda3\\lib\\site-packages (from pytrends) (4.8.0)\n",
      "Requirement already satisfied: python-dateutil>=2.8.1 in c:\\users\\monis\\anaconda3\\lib\\site-packages (from pandas>=0.25->pytrends) (2.8.2)\n",
      "Requirement already satisfied: numpy>=1.18.5 in c:\\users\\monis\\anaconda3\\lib\\site-packages (from pandas>=0.25->pytrends) (1.21.5)\n",
      "Requirement already satisfied: pytz>=2020.1 in c:\\users\\monis\\anaconda3\\lib\\site-packages (from pandas>=0.25->pytrends) (2021.3)\n",
      "Requirement already satisfied: six>=1.5 in c:\\users\\monis\\anaconda3\\lib\\site-packages (from python-dateutil>=2.8.1->pandas>=0.25->pytrends) (1.16.0)\n",
      "Requirement already satisfied: charset-normalizer~=2.0.0 in c:\\users\\monis\\anaconda3\\lib\\site-packages (from requests>=2.0->pytrends) (2.0.4)\n",
      "Requirement already satisfied: idna<4,>=2.5 in c:\\users\\monis\\anaconda3\\lib\\site-packages (from requests>=2.0->pytrends) (3.3)\n",
      "Requirement already satisfied: certifi>=2017.4.17 in c:\\users\\monis\\anaconda3\\lib\\site-packages (from requests>=2.0->pytrends) (2021.10.8)\n",
      "Requirement already satisfied: urllib3<1.27,>=1.21.1 in c:\\users\\monis\\anaconda3\\lib\\site-packages (from requests>=2.0->pytrends) (1.26.9)\n",
      "Note: you may need to restart the kernel to use updated packages.\n"
     ]
    }
   ],
   "source": [
    "pip install pytrends"
   ]
  },
  {
   "cell_type": "code",
   "execution_count": 13,
   "metadata": {},
   "outputs": [
    {
     "name": "stdout",
     "output_type": "stream",
     "text": [
      "Collecting pytrendsdaily\n",
      "  Downloading pytrendsdaily-1.0.0-py3-none-any.whl (4.9 kB)\n",
      "Requirement already satisfied: pytrends>=4.4.0 in c:\\users\\monis\\anaconda3\\lib\\site-packages (from pytrendsdaily) (4.9.2)\n",
      "Requirement already satisfied: pandas>=0.23.0 in c:\\users\\monis\\anaconda3\\lib\\site-packages (from pytrendsdaily) (1.4.2)\n",
      "Requirement already satisfied: python-dateutil>=2.8.1 in c:\\users\\monis\\anaconda3\\lib\\site-packages (from pandas>=0.23.0->pytrendsdaily) (2.8.2)\n",
      "Requirement already satisfied: numpy>=1.18.5 in c:\\users\\monis\\anaconda3\\lib\\site-packages (from pandas>=0.23.0->pytrendsdaily) (1.21.5)\n",
      "Requirement already satisfied: pytz>=2020.1 in c:\\users\\monis\\anaconda3\\lib\\site-packages (from pandas>=0.23.0->pytrendsdaily) (2021.3)\n",
      "Requirement already satisfied: six>=1.5 in c:\\users\\monis\\anaconda3\\lib\\site-packages (from python-dateutil>=2.8.1->pandas>=0.23.0->pytrendsdaily) (1.16.0)\n",
      "Requirement already satisfied: requests>=2.0 in c:\\users\\monis\\anaconda3\\lib\\site-packages (from pytrends>=4.4.0->pytrendsdaily) (2.27.1)\n",
      "Requirement already satisfied: lxml in c:\\users\\monis\\anaconda3\\lib\\site-packages (from pytrends>=4.4.0->pytrendsdaily) (4.8.0)\n",
      "Requirement already satisfied: urllib3<1.27,>=1.21.1 in c:\\users\\monis\\anaconda3\\lib\\site-packages (from requests>=2.0->pytrends>=4.4.0->pytrendsdaily) (1.26.9)\n",
      "Requirement already satisfied: charset-normalizer~=2.0.0 in c:\\users\\monis\\anaconda3\\lib\\site-packages (from requests>=2.0->pytrends>=4.4.0->pytrendsdaily) (2.0.4)\n",
      "Requirement already satisfied: certifi>=2017.4.17 in c:\\users\\monis\\anaconda3\\lib\\site-packages (from requests>=2.0->pytrends>=4.4.0->pytrendsdaily) (2021.10.8)\n",
      "Requirement already satisfied: idna<4,>=2.5 in c:\\users\\monis\\anaconda3\\lib\\site-packages (from requests>=2.0->pytrends>=4.4.0->pytrendsdaily) (3.3)\n",
      "Installing collected packages: pytrendsdaily\n",
      "Successfully installed pytrendsdaily-1.0.0\n",
      "Note: you may need to restart the kernel to use updated packages.\n"
     ]
    }
   ],
   "source": [
    "pip install pytrendsdaily"
   ]
  },
  {
   "cell_type": "code",
   "execution_count": 1,
   "metadata": {},
   "outputs": [],
   "source": [
    "from pytrends.request import TrendReq\n",
    "pytrends = TrendReq()"
   ]
  },
  {
   "cell_type": "code",
   "execution_count": 2,
   "metadata": {},
   "outputs": [],
   "source": [
    "keyword = \"Typescript\"\n",
    "pytrends.build_payload(kw_list=[keyword])"
   ]
  },
  {
   "cell_type": "code",
   "execution_count": 3,
   "metadata": {},
   "outputs": [
    {
     "name": "stdout",
     "output_type": "stream",
     "text": [
      "            Typescript  isPartial\n",
      "date                             \n",
      "2018-06-17          37      False\n",
      "2018-06-24          36      False\n",
      "2018-07-01          36      False\n",
      "2018-07-08          40      False\n",
      "2018-07-15          40      False\n",
      "...                ...        ...\n",
      "2023-05-07          77      False\n",
      "2023-05-14          75      False\n",
      "2023-05-21          80      False\n",
      "2023-05-28          73      False\n",
      "2023-06-04          73      False\n",
      "\n",
      "[260 rows x 2 columns]\n"
     ]
    }
   ],
   "source": [
    "interest_over_time_df = pytrends.interest_over_time()\n",
    "print(interest_over_time_df)"
   ]
  },
  {
   "cell_type": "code",
   "execution_count": 4,
   "metadata": {},
   "outputs": [
    {
     "name": "stdout",
     "output_type": "stream",
     "text": [
      "            Typescript_unscaled  Typescript_monthly isPartial  scale  \\\n",
      "date                                                                   \n",
      "2018-01-01                   29                 NaN       NaN    NaN   \n",
      "2018-01-02                   74                 NaN       NaN    NaN   \n",
      "2018-01-03                   80                 NaN       NaN    NaN   \n",
      "2018-01-04                   70                 NaN       NaN    NaN   \n",
      "2018-01-05                   67                 NaN       NaN    NaN   \n",
      "...                         ...                 ...       ...    ...   \n",
      "2020-12-27                   27                35.0     False   0.35   \n",
      "2020-12-28                   35                35.0       NaN   0.35   \n",
      "2020-12-29                   60                35.0       NaN   0.35   \n",
      "2020-12-30                   66                35.0       NaN   0.35   \n",
      "2020-12-31                   39                35.0       NaN   0.35   \n",
      "\n",
      "            Typescript  \n",
      "date                    \n",
      "2018-01-01         NaN  \n",
      "2018-01-02         NaN  \n",
      "2018-01-03         NaN  \n",
      "2018-01-04         NaN  \n",
      "2018-01-05         NaN  \n",
      "...                ...  \n",
      "2020-12-27        9.45  \n",
      "2020-12-28       12.25  \n",
      "2020-12-29       21.00  \n",
      "2020-12-30       23.10  \n",
      "2020-12-31       13.65  \n",
      "\n",
      "[1096 rows x 5 columns]\n"
     ]
    }
   ],
   "source": [
    "from pytrendsdaily import getDailyData\n",
    "\n",
    "# Set up query parameters\n",
    "keyword = \"Typescript\"\n",
    "start_year = 2018\n",
    "end_year = 2020\n",
    "\n",
    "# Get daily historical data\n",
    "historical_data = getDailyData(keyword, start_year, end_year, verbose=False)\n",
    "print(historical_data)\n"
   ]
  },
  {
   "cell_type": "code",
   "execution_count": 5,
   "metadata": {},
   "outputs": [
    {
     "name": "stdout",
     "output_type": "stream",
     "text": [
      "                Typescript\n",
      "geoName                   \n",
      "Afghanistan              0\n",
      "Albania                  0\n",
      "Algeria                  0\n",
      "American Samoa           0\n",
      "Andorra                  0\n",
      "...                    ...\n",
      "Western Sahara           0\n",
      "Yemen                    0\n",
      "Zambia                   0\n",
      "Zimbabwe                 0\n",
      "Åland Islands            0\n",
      "\n",
      "[250 rows x 1 columns]\n"
     ]
    }
   ],
   "source": [
    "interest_by_region_df = pytrends.interest_by_region()\n",
    "print(interest_by_region_df)"
   ]
  },
  {
   "cell_type": "code",
   "execution_count": 6,
   "metadata": {},
   "outputs": [
    {
     "name": "stdout",
     "output_type": "stream",
     "text": [
      "None\n"
     ]
    }
   ],
   "source": [
    "top_charts_df = pytrends.top_charts(date='2023', hl='en-US', tz=360)\n",
    "print(top_charts_df)"
   ]
  },
  {
   "cell_type": "code",
   "execution_count": 7,
   "metadata": {},
   "outputs": [
    {
     "name": "stdout",
     "output_type": "stream",
     "text": [
      "{'top':                        query  value\n",
      "0            type typescript    100\n",
      "1           typescript react     84\n",
      "2                      react     84\n",
      "3                 javascript     66\n",
      "4           array typescript     59\n",
      "5              typescript is     56\n",
      "6                    angular     52\n",
      "7          typescript object     50\n",
      "8         angular typescript     49\n",
      "9             typescript for     40\n",
      "10       typescript function     38\n",
      "11      interface typescript     32\n",
      "12          typescript class     28\n",
      "13            typescript npm     25\n",
      "14                       npm     23\n",
      "15                      node     23\n",
      "16           typescript node     23\n",
      "17          typescript types     22\n",
      "18                        ts     20\n",
      "19         typescript import     20\n",
      "20           enum typescript     20\n",
      "21  typescript to javascript     20\n",
      "22        typescript example     18\n",
      "23            map typescript     18\n",
      "24             typescript or     17, 'rising':                                            query  value\n",
      "0                                           vite  41500\n",
      "1                            usestate typescript  40300\n",
      "2                                       tailwind  38700\n",
      "3                                  redux toolkit  14050\n",
      "4   cannot use import statement outside a module  10500\n",
      "5                                    react hooks   8900\n",
      "6                                          figma   5500\n",
      "7                              nextjs typescript   4800\n",
      "8                   react typescript cheat sheet   4650\n",
      "9                              useref typescript   4300\n",
      "10                                        nextjs   4050\n",
      "11                                           npx   3350\n",
      "12                                       fastify   3350\n",
      "13                      typescript utility types   3000\n",
      "14                                        nestjs   2900\n",
      "15                                cra typescript   2900\n",
      "16                            cypress typescript   2050\n",
      "17                                       next js   1950\n",
      "18                            next js typescript   1800\n",
      "19                               typescript omit   1200\n",
      "20                  typescript optional chaining    950\n",
      "21                                       next.js    900\n",
      "22                  styled components typescript    850\n",
      "23                               nuxt typescript    850\n",
      "24                                     storybook    800}\n"
     ]
    }
   ],
   "source": [
    "related_queries_dict = pytrends.related_queries()\n",
    "print(related_queries_dict[keyword])"
   ]
  },
  {
   "cell_type": "code",
   "execution_count": 8,
   "metadata": {},
   "outputs": [
    {
     "name": "stdout",
     "output_type": "stream",
     "text": [
      "[{'mid': '/m/0n50hxv', 'title': 'TypeScript', 'type': 'High-level programming language'}, {'mid': '/g/11fk93s_gc', 'title': 'Narrative Economics: How Stories Go Viral and Drive Major Economic Events', 'type': 'Book by Robert J. Shiller'}, {'mid': '/g/11j8g7vhmj', 'title': 'Man Into Woman: A Comparative Scholarly Edition', 'type': 'Book by Lili Elbe'}, {'mid': '/g/11gxmlwqkj', 'title': 'Map. typescript.', 'type': 'Topic'}, {'mid': '/g/11ddw_9sb4', 'title': 'typescript', 'type': 'Topic'}]\n"
     ]
    }
   ],
   "source": [
    "keyword_suggestions = pytrends.suggestions(keyword)\n",
    "print(keyword_suggestions)"
   ]
  }
 ],
 "metadata": {
  "kernelspec": {
   "display_name": "Python 3",
   "language": "python",
   "name": "python3"
  },
  "language_info": {
   "codemirror_mode": {
    "name": "ipython",
    "version": 3
   },
   "file_extension": ".py",
   "mimetype": "text/x-python",
   "name": "python",
   "nbconvert_exporter": "python",
   "pygments_lexer": "ipython3",
   "version": "3.9.12"
  },
  "orig_nbformat": 4
 },
 "nbformat": 4,
 "nbformat_minor": 2
}
