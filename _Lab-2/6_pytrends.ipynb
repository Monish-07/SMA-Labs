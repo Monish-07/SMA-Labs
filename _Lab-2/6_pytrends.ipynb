{
 "cells": [
  {
   "cell_type": "code",
   "execution_count": 1,
   "metadata": {},
   "outputs": [
    {
     "name": "stdout",
     "output_type": "stream",
     "text": [
      "            Typescript  isPartial\n",
      "date                             \n",
      "2018-06-17          37      False\n",
      "2018-06-24          36      False\n",
      "2018-07-01          36      False\n",
      "2018-07-08          40      False\n",
      "2018-07-15          40      False\n",
      "...                ...        ...\n",
      "2023-05-07          77      False\n",
      "2023-05-14          75      False\n",
      "2023-05-21          80      False\n",
      "2023-05-28          73      False\n",
      "2023-06-04          77      False\n",
      "\n",
      "[260 rows x 2 columns]\n",
      "            Typescript_unscaled  Typescript_monthly isPartial  scale  \\\n",
      "date                                                                   \n",
      "2018-01-01                   29                 NaN       NaN    NaN   \n",
      "2018-01-02                   74                 NaN       NaN    NaN   \n",
      "2018-01-03                   80                 NaN       NaN    NaN   \n",
      "2018-01-04                   70                 NaN       NaN    NaN   \n",
      "2018-01-05                   67                 NaN       NaN    NaN   \n",
      "...                         ...                 ...       ...    ...   \n",
      "2020-12-27                   27                35.0     False   0.35   \n",
      "2020-12-28                   35                35.0       NaN   0.35   \n",
      "2020-12-29                   60                35.0       NaN   0.35   \n",
      "2020-12-30                   66                35.0       NaN   0.35   \n",
      "2020-12-31                   39                35.0       NaN   0.35   \n",
      "\n",
      "            Typescript  \n",
      "date                    \n",
      "2018-01-01         NaN  \n",
      "2018-01-02         NaN  \n",
      "2018-01-03         NaN  \n",
      "2018-01-04         NaN  \n",
      "2018-01-05         NaN  \n",
      "...                ...  \n",
      "2020-12-27        9.45  \n",
      "2020-12-28       12.25  \n",
      "2020-12-29       21.00  \n",
      "2020-12-30       23.10  \n",
      "2020-12-31       13.65  \n",
      "\n",
      "[1096 rows x 5 columns]\n",
      "                Typescript\n",
      "geoName                   \n",
      "Afghanistan              0\n",
      "Albania                  0\n",
      "Algeria                  0\n",
      "American Samoa           0\n",
      "Andorra                  0\n",
      "...                    ...\n",
      "Western Sahara           0\n",
      "Yemen                    0\n",
      "Zambia                   0\n",
      "Zimbabwe                 0\n",
      "Åland Islands            0\n",
      "\n",
      "[250 rows x 1 columns]\n",
      "None\n",
      "{'top':                        query  value\n",
      "0            typescript type    100\n",
      "1           typescript react     80\n",
      "2                      react     79\n",
      "3                 javascript     64\n",
      "4           typescript array     59\n",
      "5                    angular     52\n",
      "6              typescript is     51\n",
      "7         angular typescript     51\n",
      "8          typescript object     49\n",
      "9             typescript for     38\n",
      "10       typescript function     37\n",
      "11      interface typescript     31\n",
      "12          typescript class     28\n",
      "13            npm typescript     23\n",
      "14           typescript node     22\n",
      "15                       npm     22\n",
      "16                      node     22\n",
      "17          typescript types     20\n",
      "18  typescript to javascript     20\n",
      "19                        ts     20\n",
      "20           typescript enum     19\n",
      "21         typescript import     18\n",
      "22        typescript example     17\n",
      "23            map typescript     17\n",
      "24             typescript as     17, 'rising':                                            query  value\n",
      "0                            usestate typescript  40150\n",
      "1                                           vite  38750\n",
      "2                                       tailwind  37900\n",
      "3                                  redux toolkit  14200\n",
      "4   cannot use import statement outside a module  10600\n",
      "5                                    react hooks   8050\n",
      "6                   react typescript cheat sheet   4850\n",
      "7                              nextjs typescript   4650\n",
      "8                              useref typescript   4300\n",
      "9                                         nextjs   4100\n",
      "10                                       fastify   3400\n",
      "11                                           npx   3400\n",
      "12                      typescript utility types   3000\n",
      "13                                        nestjs   2900\n",
      "14                                cra typescript   2900\n",
      "15                             svelte typescript   2200\n",
      "16                            cypress typescript   2000\n",
      "17                            next js typescript   1900\n",
      "18                                       next js   1850\n",
      "19                               typescript omit   1150\n",
      "20                  typescript optional chaining    950\n",
      "21                                       next.js    900\n",
      "22                  styled components typescript    900\n",
      "23                               nuxt typescript    850\n",
      "24                                     storybook    800}\n",
      "[{'mid': '/m/0n50hxv', 'title': 'TypeScript', 'type': 'High-level programming language'}, {'mid': '/g/11fk93s_gc', 'title': 'Narrative Economics: How Stories Go Viral and Drive Major Economic Events', 'type': 'Book by Robert J. Shiller'}, {'mid': '/g/11j8g7vhmj', 'title': 'Man Into Woman: A Comparative Scholarly Edition', 'type': 'Book by Lili Elbe'}, {'mid': '/g/11gxmlwqkj', 'title': 'Map. typescript.', 'type': 'Topic'}, {'mid': '/g/11ddw_9sb4', 'title': 'typescript', 'type': 'Topic'}]\n"
     ]
    }
   ],
   "source": [
    "from pytrends.request import TrendReq\n",
    "pytrends = TrendReq()\n",
    "\n",
    "keyword = \"Typescript\"\n",
    "pytrends.build_payload(kw_list=[keyword])\n",
    "\n",
    "interest_over_time_df = pytrends.interest_over_time()\n",
    "print(interest_over_time_df)\n",
    "\n",
    "from pytrendsdaily import getDailyData\n",
    "# Set up query parameters\n",
    "keyword = \"Typescript\"\n",
    "start_year = 2018\n",
    "end_year = 2020\n",
    "# Get daily historical data\n",
    "historical_data = getDailyData(keyword, start_year, end_year, verbose=False)\n",
    "print(historical_data)\n",
    "\n",
    "interest_by_region_df = pytrends.interest_by_region()\n",
    "print(interest_by_region_df)\n",
    "\n",
    "top_charts_df = pytrends.top_charts(date='2023', hl='en-US', tz=360)\n",
    "print(top_charts_df)\n",
    "\n",
    "related_queries_dict = pytrends.related_queries()\n",
    "print(related_queries_dict[keyword])\n",
    "\n",
    "keyword_suggestions = pytrends.suggestions(keyword)\n",
    "print(keyword_suggestions)"
   ]
  },
  {
   "cell_type": "code",
   "execution_count": 2,
   "metadata": {},
   "outputs": [],
   "source": [
    "# pip install pytrends"
   ]
  },
  {
   "cell_type": "code",
   "execution_count": 3,
   "metadata": {},
   "outputs": [],
   "source": [
    "# pip install pytrendsdaily"
   ]
  },
  {
   "cell_type": "code",
   "execution_count": 4,
   "metadata": {},
   "outputs": [],
   "source": [
    "from pytrends.request import TrendReq\n",
    "pytrends = TrendReq()"
   ]
  },
  {
   "cell_type": "code",
   "execution_count": 5,
   "metadata": {},
   "outputs": [],
   "source": [
    "keyword = \"Typescript\"\n",
    "pytrends.build_payload(kw_list=[keyword])"
   ]
  },
  {
   "cell_type": "code",
   "execution_count": 6,
   "metadata": {},
   "outputs": [
    {
     "name": "stdout",
     "output_type": "stream",
     "text": [
      "            Typescript  isPartial\n",
      "date                             \n",
      "2018-06-17          37      False\n",
      "2018-06-24          36      False\n",
      "2018-07-01          36      False\n",
      "2018-07-08          40      False\n",
      "2018-07-15          40      False\n",
      "...                ...        ...\n",
      "2023-05-07          77      False\n",
      "2023-05-14          75      False\n",
      "2023-05-21          80      False\n",
      "2023-05-28          73      False\n",
      "2023-06-04          77      False\n",
      "\n",
      "[260 rows x 2 columns]\n"
     ]
    }
   ],
   "source": [
    "interest_over_time_df = pytrends.interest_over_time()\n",
    "print(interest_over_time_df)"
   ]
  },
  {
   "cell_type": "code",
   "execution_count": 7,
   "metadata": {},
   "outputs": [
    {
     "ename": "ReadTimeout",
     "evalue": "HTTPSConnectionPool(host='trends.google.com', port=443): Read timed out. (read timeout=2)",
     "output_type": "error",
     "traceback": [
      "\u001b[1;31m---------------------------------------------------------------------------\u001b[0m",
      "\u001b[1;31mtimeout\u001b[0m                                   Traceback (most recent call last)",
      "File \u001b[1;32mc:\\Users\\monis\\anaconda3\\lib\\site-packages\\urllib3\\connectionpool.py:386\u001b[0m, in \u001b[0;36mHTTPConnectionPool._make_request\u001b[1;34m(self, conn, method, url, timeout, chunked, **httplib_request_kw)\u001b[0m\n\u001b[0;32m    385\u001b[0m \u001b[39mtry\u001b[39;00m:\n\u001b[1;32m--> 386\u001b[0m     \u001b[39mself\u001b[39;49m\u001b[39m.\u001b[39;49m_validate_conn(conn)\n\u001b[0;32m    387\u001b[0m \u001b[39mexcept\u001b[39;00m (SocketTimeout, BaseSSLError) \u001b[39mas\u001b[39;00m e:\n\u001b[0;32m    388\u001b[0m     \u001b[39m# Py2 raises this as a BaseSSLError, Py3 raises it as socket timeout.\u001b[39;00m\n",
      "File \u001b[1;32mc:\\Users\\monis\\anaconda3\\lib\\site-packages\\urllib3\\connectionpool.py:1040\u001b[0m, in \u001b[0;36mHTTPSConnectionPool._validate_conn\u001b[1;34m(self, conn)\u001b[0m\n\u001b[0;32m   1039\u001b[0m \u001b[39mif\u001b[39;00m \u001b[39mnot\u001b[39;00m \u001b[39mgetattr\u001b[39m(conn, \u001b[39m\"\u001b[39m\u001b[39msock\u001b[39m\u001b[39m\"\u001b[39m, \u001b[39mNone\u001b[39;00m):  \u001b[39m# AppEngine might not have  `.sock`\u001b[39;00m\n\u001b[1;32m-> 1040\u001b[0m     conn\u001b[39m.\u001b[39;49mconnect()\n\u001b[0;32m   1042\u001b[0m \u001b[39mif\u001b[39;00m \u001b[39mnot\u001b[39;00m conn\u001b[39m.\u001b[39mis_verified:\n",
      "File \u001b[1;32mc:\\Users\\monis\\anaconda3\\lib\\site-packages\\urllib3\\connection.py:414\u001b[0m, in \u001b[0;36mHTTPSConnection.connect\u001b[1;34m(self)\u001b[0m\n\u001b[0;32m    412\u001b[0m     context\u001b[39m.\u001b[39mload_default_certs()\n\u001b[1;32m--> 414\u001b[0m \u001b[39mself\u001b[39m\u001b[39m.\u001b[39msock \u001b[39m=\u001b[39m ssl_wrap_socket(\n\u001b[0;32m    415\u001b[0m     sock\u001b[39m=\u001b[39;49mconn,\n\u001b[0;32m    416\u001b[0m     keyfile\u001b[39m=\u001b[39;49m\u001b[39mself\u001b[39;49m\u001b[39m.\u001b[39;49mkey_file,\n\u001b[0;32m    417\u001b[0m     certfile\u001b[39m=\u001b[39;49m\u001b[39mself\u001b[39;49m\u001b[39m.\u001b[39;49mcert_file,\n\u001b[0;32m    418\u001b[0m     key_password\u001b[39m=\u001b[39;49m\u001b[39mself\u001b[39;49m\u001b[39m.\u001b[39;49mkey_password,\n\u001b[0;32m    419\u001b[0m     ca_certs\u001b[39m=\u001b[39;49m\u001b[39mself\u001b[39;49m\u001b[39m.\u001b[39;49mca_certs,\n\u001b[0;32m    420\u001b[0m     ca_cert_dir\u001b[39m=\u001b[39;49m\u001b[39mself\u001b[39;49m\u001b[39m.\u001b[39;49mca_cert_dir,\n\u001b[0;32m    421\u001b[0m     ca_cert_data\u001b[39m=\u001b[39;49m\u001b[39mself\u001b[39;49m\u001b[39m.\u001b[39;49mca_cert_data,\n\u001b[0;32m    422\u001b[0m     server_hostname\u001b[39m=\u001b[39;49mserver_hostname,\n\u001b[0;32m    423\u001b[0m     ssl_context\u001b[39m=\u001b[39;49mcontext,\n\u001b[0;32m    424\u001b[0m     tls_in_tls\u001b[39m=\u001b[39;49mtls_in_tls,\n\u001b[0;32m    425\u001b[0m )\n\u001b[0;32m    427\u001b[0m \u001b[39m# If we're using all defaults and the connection\u001b[39;00m\n\u001b[0;32m    428\u001b[0m \u001b[39m# is TLSv1 or TLSv1.1 we throw a DeprecationWarning\u001b[39;00m\n\u001b[0;32m    429\u001b[0m \u001b[39m# for the host.\u001b[39;00m\n",
      "File \u001b[1;32mc:\\Users\\monis\\anaconda3\\lib\\site-packages\\urllib3\\util\\ssl_.py:449\u001b[0m, in \u001b[0;36mssl_wrap_socket\u001b[1;34m(sock, keyfile, certfile, cert_reqs, ca_certs, server_hostname, ssl_version, ciphers, ssl_context, ca_cert_dir, key_password, ca_cert_data, tls_in_tls)\u001b[0m\n\u001b[0;32m    448\u001b[0m \u001b[39mif\u001b[39;00m send_sni:\n\u001b[1;32m--> 449\u001b[0m     ssl_sock \u001b[39m=\u001b[39m _ssl_wrap_socket_impl(\n\u001b[0;32m    450\u001b[0m         sock, context, tls_in_tls, server_hostname\u001b[39m=\u001b[39;49mserver_hostname\n\u001b[0;32m    451\u001b[0m     )\n\u001b[0;32m    452\u001b[0m \u001b[39melse\u001b[39;00m:\n",
      "File \u001b[1;32mc:\\Users\\monis\\anaconda3\\lib\\site-packages\\urllib3\\util\\ssl_.py:493\u001b[0m, in \u001b[0;36m_ssl_wrap_socket_impl\u001b[1;34m(sock, ssl_context, tls_in_tls, server_hostname)\u001b[0m\n\u001b[0;32m    492\u001b[0m \u001b[39mif\u001b[39;00m server_hostname:\n\u001b[1;32m--> 493\u001b[0m     \u001b[39mreturn\u001b[39;00m ssl_context\u001b[39m.\u001b[39;49mwrap_socket(sock, server_hostname\u001b[39m=\u001b[39;49mserver_hostname)\n\u001b[0;32m    494\u001b[0m \u001b[39melse\u001b[39;00m:\n",
      "File \u001b[1;32mc:\\Users\\monis\\anaconda3\\lib\\ssl.py:500\u001b[0m, in \u001b[0;36mSSLContext.wrap_socket\u001b[1;34m(self, sock, server_side, do_handshake_on_connect, suppress_ragged_eofs, server_hostname, session)\u001b[0m\n\u001b[0;32m    494\u001b[0m \u001b[39mdef\u001b[39;00m \u001b[39mwrap_socket\u001b[39m(\u001b[39mself\u001b[39m, sock, server_side\u001b[39m=\u001b[39m\u001b[39mFalse\u001b[39;00m,\n\u001b[0;32m    495\u001b[0m                 do_handshake_on_connect\u001b[39m=\u001b[39m\u001b[39mTrue\u001b[39;00m,\n\u001b[0;32m    496\u001b[0m                 suppress_ragged_eofs\u001b[39m=\u001b[39m\u001b[39mTrue\u001b[39;00m,\n\u001b[0;32m    497\u001b[0m                 server_hostname\u001b[39m=\u001b[39m\u001b[39mNone\u001b[39;00m, session\u001b[39m=\u001b[39m\u001b[39mNone\u001b[39;00m):\n\u001b[0;32m    498\u001b[0m     \u001b[39m# SSLSocket class handles server_hostname encoding before it calls\u001b[39;00m\n\u001b[0;32m    499\u001b[0m     \u001b[39m# ctx._wrap_socket()\u001b[39;00m\n\u001b[1;32m--> 500\u001b[0m     \u001b[39mreturn\u001b[39;00m \u001b[39mself\u001b[39;49m\u001b[39m.\u001b[39;49msslsocket_class\u001b[39m.\u001b[39;49m_create(\n\u001b[0;32m    501\u001b[0m         sock\u001b[39m=\u001b[39;49msock,\n\u001b[0;32m    502\u001b[0m         server_side\u001b[39m=\u001b[39;49mserver_side,\n\u001b[0;32m    503\u001b[0m         do_handshake_on_connect\u001b[39m=\u001b[39;49mdo_handshake_on_connect,\n\u001b[0;32m    504\u001b[0m         suppress_ragged_eofs\u001b[39m=\u001b[39;49msuppress_ragged_eofs,\n\u001b[0;32m    505\u001b[0m         server_hostname\u001b[39m=\u001b[39;49mserver_hostname,\n\u001b[0;32m    506\u001b[0m         context\u001b[39m=\u001b[39;49m\u001b[39mself\u001b[39;49m,\n\u001b[0;32m    507\u001b[0m         session\u001b[39m=\u001b[39;49msession\n\u001b[0;32m    508\u001b[0m     )\n",
      "File \u001b[1;32mc:\\Users\\monis\\anaconda3\\lib\\ssl.py:1040\u001b[0m, in \u001b[0;36mSSLSocket._create\u001b[1;34m(cls, sock, server_side, do_handshake_on_connect, suppress_ragged_eofs, server_hostname, context, session)\u001b[0m\n\u001b[0;32m   1039\u001b[0m             \u001b[39mraise\u001b[39;00m \u001b[39mValueError\u001b[39;00m(\u001b[39m\"\u001b[39m\u001b[39mdo_handshake_on_connect should not be specified for non-blocking sockets\u001b[39m\u001b[39m\"\u001b[39m)\n\u001b[1;32m-> 1040\u001b[0m         \u001b[39mself\u001b[39;49m\u001b[39m.\u001b[39;49mdo_handshake()\n\u001b[0;32m   1041\u001b[0m \u001b[39mexcept\u001b[39;00m (\u001b[39mOSError\u001b[39;00m, \u001b[39mValueError\u001b[39;00m):\n",
      "File \u001b[1;32mc:\\Users\\monis\\anaconda3\\lib\\ssl.py:1309\u001b[0m, in \u001b[0;36mSSLSocket.do_handshake\u001b[1;34m(self, block)\u001b[0m\n\u001b[0;32m   1308\u001b[0m         \u001b[39mself\u001b[39m\u001b[39m.\u001b[39msettimeout(\u001b[39mNone\u001b[39;00m)\n\u001b[1;32m-> 1309\u001b[0m     \u001b[39mself\u001b[39;49m\u001b[39m.\u001b[39;49m_sslobj\u001b[39m.\u001b[39;49mdo_handshake()\n\u001b[0;32m   1310\u001b[0m \u001b[39mfinally\u001b[39;00m:\n",
      "\u001b[1;31mtimeout\u001b[0m: _ssl.c:1112: The handshake operation timed out",
      "\nDuring handling of the above exception, another exception occurred:\n",
      "\u001b[1;31mReadTimeoutError\u001b[0m                          Traceback (most recent call last)",
      "File \u001b[1;32mc:\\Users\\monis\\anaconda3\\lib\\site-packages\\requests\\adapters.py:440\u001b[0m, in \u001b[0;36mHTTPAdapter.send\u001b[1;34m(self, request, stream, timeout, verify, cert, proxies)\u001b[0m\n\u001b[0;32m    439\u001b[0m \u001b[39mif\u001b[39;00m \u001b[39mnot\u001b[39;00m chunked:\n\u001b[1;32m--> 440\u001b[0m     resp \u001b[39m=\u001b[39m conn\u001b[39m.\u001b[39;49murlopen(\n\u001b[0;32m    441\u001b[0m         method\u001b[39m=\u001b[39;49mrequest\u001b[39m.\u001b[39;49mmethod,\n\u001b[0;32m    442\u001b[0m         url\u001b[39m=\u001b[39;49murl,\n\u001b[0;32m    443\u001b[0m         body\u001b[39m=\u001b[39;49mrequest\u001b[39m.\u001b[39;49mbody,\n\u001b[0;32m    444\u001b[0m         headers\u001b[39m=\u001b[39;49mrequest\u001b[39m.\u001b[39;49mheaders,\n\u001b[0;32m    445\u001b[0m         redirect\u001b[39m=\u001b[39;49m\u001b[39mFalse\u001b[39;49;00m,\n\u001b[0;32m    446\u001b[0m         assert_same_host\u001b[39m=\u001b[39;49m\u001b[39mFalse\u001b[39;49;00m,\n\u001b[0;32m    447\u001b[0m         preload_content\u001b[39m=\u001b[39;49m\u001b[39mFalse\u001b[39;49;00m,\n\u001b[0;32m    448\u001b[0m         decode_content\u001b[39m=\u001b[39;49m\u001b[39mFalse\u001b[39;49;00m,\n\u001b[0;32m    449\u001b[0m         retries\u001b[39m=\u001b[39;49m\u001b[39mself\u001b[39;49m\u001b[39m.\u001b[39;49mmax_retries,\n\u001b[0;32m    450\u001b[0m         timeout\u001b[39m=\u001b[39;49mtimeout\n\u001b[0;32m    451\u001b[0m     )\n\u001b[0;32m    453\u001b[0m \u001b[39m# Send the request.\u001b[39;00m\n\u001b[0;32m    454\u001b[0m \u001b[39melse\u001b[39;00m:\n",
      "File \u001b[1;32mc:\\Users\\monis\\anaconda3\\lib\\site-packages\\urllib3\\connectionpool.py:785\u001b[0m, in \u001b[0;36mHTTPConnectionPool.urlopen\u001b[1;34m(self, method, url, body, headers, retries, redirect, assert_same_host, timeout, pool_timeout, release_conn, chunked, body_pos, **response_kw)\u001b[0m\n\u001b[0;32m    783\u001b[0m     e \u001b[39m=\u001b[39m ProtocolError(\u001b[39m\"\u001b[39m\u001b[39mConnection aborted.\u001b[39m\u001b[39m\"\u001b[39m, e)\n\u001b[1;32m--> 785\u001b[0m retries \u001b[39m=\u001b[39m retries\u001b[39m.\u001b[39;49mincrement(\n\u001b[0;32m    786\u001b[0m     method, url, error\u001b[39m=\u001b[39;49me, _pool\u001b[39m=\u001b[39;49m\u001b[39mself\u001b[39;49m, _stacktrace\u001b[39m=\u001b[39;49msys\u001b[39m.\u001b[39;49mexc_info()[\u001b[39m2\u001b[39;49m]\n\u001b[0;32m    787\u001b[0m )\n\u001b[0;32m    788\u001b[0m retries\u001b[39m.\u001b[39msleep()\n",
      "File \u001b[1;32mc:\\Users\\monis\\anaconda3\\lib\\site-packages\\urllib3\\util\\retry.py:550\u001b[0m, in \u001b[0;36mRetry.increment\u001b[1;34m(self, method, url, response, error, _pool, _stacktrace)\u001b[0m\n\u001b[0;32m    549\u001b[0m \u001b[39mif\u001b[39;00m read \u001b[39mis\u001b[39;00m \u001b[39mFalse\u001b[39;00m \u001b[39mor\u001b[39;00m \u001b[39mnot\u001b[39;00m \u001b[39mself\u001b[39m\u001b[39m.\u001b[39m_is_method_retryable(method):\n\u001b[1;32m--> 550\u001b[0m     \u001b[39mraise\u001b[39;00m six\u001b[39m.\u001b[39;49mreraise(\u001b[39mtype\u001b[39;49m(error), error, _stacktrace)\n\u001b[0;32m    551\u001b[0m \u001b[39melif\u001b[39;00m read \u001b[39mis\u001b[39;00m \u001b[39mnot\u001b[39;00m \u001b[39mNone\u001b[39;00m:\n",
      "File \u001b[1;32mc:\\Users\\monis\\anaconda3\\lib\\site-packages\\urllib3\\packages\\six.py:770\u001b[0m, in \u001b[0;36mreraise\u001b[1;34m(tp, value, tb)\u001b[0m\n\u001b[0;32m    769\u001b[0m         \u001b[39mraise\u001b[39;00m value\u001b[39m.\u001b[39mwith_traceback(tb)\n\u001b[1;32m--> 770\u001b[0m     \u001b[39mraise\u001b[39;00m value\n\u001b[0;32m    771\u001b[0m \u001b[39mfinally\u001b[39;00m:\n",
      "File \u001b[1;32mc:\\Users\\monis\\anaconda3\\lib\\site-packages\\urllib3\\connectionpool.py:703\u001b[0m, in \u001b[0;36mHTTPConnectionPool.urlopen\u001b[1;34m(self, method, url, body, headers, retries, redirect, assert_same_host, timeout, pool_timeout, release_conn, chunked, body_pos, **response_kw)\u001b[0m\n\u001b[0;32m    702\u001b[0m \u001b[39m# Make the request on the httplib connection object.\u001b[39;00m\n\u001b[1;32m--> 703\u001b[0m httplib_response \u001b[39m=\u001b[39m \u001b[39mself\u001b[39;49m\u001b[39m.\u001b[39;49m_make_request(\n\u001b[0;32m    704\u001b[0m     conn,\n\u001b[0;32m    705\u001b[0m     method,\n\u001b[0;32m    706\u001b[0m     url,\n\u001b[0;32m    707\u001b[0m     timeout\u001b[39m=\u001b[39;49mtimeout_obj,\n\u001b[0;32m    708\u001b[0m     body\u001b[39m=\u001b[39;49mbody,\n\u001b[0;32m    709\u001b[0m     headers\u001b[39m=\u001b[39;49mheaders,\n\u001b[0;32m    710\u001b[0m     chunked\u001b[39m=\u001b[39;49mchunked,\n\u001b[0;32m    711\u001b[0m )\n\u001b[0;32m    713\u001b[0m \u001b[39m# If we're going to release the connection in ``finally:``, then\u001b[39;00m\n\u001b[0;32m    714\u001b[0m \u001b[39m# the response doesn't need to know about the connection. Otherwise\u001b[39;00m\n\u001b[0;32m    715\u001b[0m \u001b[39m# it will also try to release it and we'll have a double-release\u001b[39;00m\n\u001b[0;32m    716\u001b[0m \u001b[39m# mess.\u001b[39;00m\n",
      "File \u001b[1;32mc:\\Users\\monis\\anaconda3\\lib\\site-packages\\urllib3\\connectionpool.py:389\u001b[0m, in \u001b[0;36mHTTPConnectionPool._make_request\u001b[1;34m(self, conn, method, url, timeout, chunked, **httplib_request_kw)\u001b[0m\n\u001b[0;32m    387\u001b[0m \u001b[39mexcept\u001b[39;00m (SocketTimeout, BaseSSLError) \u001b[39mas\u001b[39;00m e:\n\u001b[0;32m    388\u001b[0m     \u001b[39m# Py2 raises this as a BaseSSLError, Py3 raises it as socket timeout.\u001b[39;00m\n\u001b[1;32m--> 389\u001b[0m     \u001b[39mself\u001b[39;49m\u001b[39m.\u001b[39;49m_raise_timeout(err\u001b[39m=\u001b[39;49me, url\u001b[39m=\u001b[39;49murl, timeout_value\u001b[39m=\u001b[39;49mconn\u001b[39m.\u001b[39;49mtimeout)\n\u001b[0;32m    390\u001b[0m     \u001b[39mraise\u001b[39;00m\n",
      "File \u001b[1;32mc:\\Users\\monis\\anaconda3\\lib\\site-packages\\urllib3\\connectionpool.py:340\u001b[0m, in \u001b[0;36mHTTPConnectionPool._raise_timeout\u001b[1;34m(self, err, url, timeout_value)\u001b[0m\n\u001b[0;32m    339\u001b[0m \u001b[39mif\u001b[39;00m \u001b[39misinstance\u001b[39m(err, SocketTimeout):\n\u001b[1;32m--> 340\u001b[0m     \u001b[39mraise\u001b[39;00m ReadTimeoutError(\n\u001b[0;32m    341\u001b[0m         \u001b[39mself\u001b[39m, url, \u001b[39m\"\u001b[39m\u001b[39mRead timed out. (read timeout=\u001b[39m\u001b[39m%s\u001b[39;00m\u001b[39m)\u001b[39m\u001b[39m\"\u001b[39m \u001b[39m%\u001b[39m timeout_value\n\u001b[0;32m    342\u001b[0m     )\n\u001b[0;32m    344\u001b[0m \u001b[39m# See the above comment about EAGAIN in Python 3. In Python 2 we have\u001b[39;00m\n\u001b[0;32m    345\u001b[0m \u001b[39m# to specifically catch it and throw the timeout error\u001b[39;00m\n",
      "\u001b[1;31mReadTimeoutError\u001b[0m: HTTPSConnectionPool(host='trends.google.com', port=443): Read timed out. (read timeout=2)",
      "\nDuring handling of the above exception, another exception occurred:\n",
      "\u001b[1;31mReadTimeout\u001b[0m                               Traceback (most recent call last)",
      "\u001b[1;32mc:\\Users\\monis\\Desktop\\SMA Labs\\_Lab-2\\6_pytrends.ipynb Cell 7\u001b[0m in \u001b[0;36m<cell line: 9>\u001b[1;34m()\u001b[0m\n\u001b[0;32m      <a href='vscode-notebook-cell:/c%3A/Users/monis/Desktop/SMA%20Labs/_Lab-2/6_pytrends.ipynb#W6sZmlsZQ%3D%3D?line=5'>6</a>\u001b[0m end_year \u001b[39m=\u001b[39m \u001b[39m2020\u001b[39m\n\u001b[0;32m      <a href='vscode-notebook-cell:/c%3A/Users/monis/Desktop/SMA%20Labs/_Lab-2/6_pytrends.ipynb#W6sZmlsZQ%3D%3D?line=7'>8</a>\u001b[0m \u001b[39m# Get daily historical data\u001b[39;00m\n\u001b[1;32m----> <a href='vscode-notebook-cell:/c%3A/Users/monis/Desktop/SMA%20Labs/_Lab-2/6_pytrends.ipynb#W6sZmlsZQ%3D%3D?line=8'>9</a>\u001b[0m historical_data \u001b[39m=\u001b[39m getDailyData(keyword, start_year, end_year, verbose\u001b[39m=\u001b[39;49m\u001b[39mFalse\u001b[39;49;00m)\n\u001b[0;32m     <a href='vscode-notebook-cell:/c%3A/Users/monis/Desktop/SMA%20Labs/_Lab-2/6_pytrends.ipynb#W6sZmlsZQ%3D%3D?line=9'>10</a>\u001b[0m \u001b[39mprint\u001b[39m(historical_data)\n",
      "File \u001b[1;32mc:\\Users\\monis\\anaconda3\\lib\\site-packages\\pytrendsdaily\\dailydata.py:111\u001b[0m, in \u001b[0;36mgetDailyData\u001b[1;34m(word, start_year, stop_year, verbose, wait_time)\u001b[0m\n\u001b[0;32m    109\u001b[0m \u001b[39mif\u001b[39;00m verbose:\n\u001b[0;32m    110\u001b[0m     \u001b[39mprint\u001b[39m(\u001b[39mf\u001b[39m\u001b[39m'\u001b[39m\u001b[39m{\u001b[39;00mword\u001b[39m}\u001b[39;00m\u001b[39m:\u001b[39m\u001b[39m{\u001b[39;00mtimeframe\u001b[39m}\u001b[39;00m\u001b[39m'\u001b[39m)\n\u001b[1;32m--> 111\u001b[0m results[current] \u001b[39m=\u001b[39m _fetchData(pytrends, build_payload, timeframe)\n\u001b[0;32m    112\u001b[0m current \u001b[39m=\u001b[39m lastDateOfMonth \u001b[39m+\u001b[39m timedelta(days\u001b[39m=\u001b[39m\u001b[39m1\u001b[39m)\n\u001b[0;32m    113\u001b[0m sleep(wait_time)  \u001b[39m# don't go too fast or Google will send 429s\u001b[39;00m\n",
      "File \u001b[1;32mc:\\Users\\monis\\anaconda3\\lib\\site-packages\\pytrendsdaily\\dailydata.py:37\u001b[0m, in \u001b[0;36m_fetchData\u001b[1;34m(pytrends, build_payload, timeframe)\u001b[0m\n\u001b[0;32m     35\u001b[0m \u001b[39mwhile\u001b[39;00m \u001b[39mnot\u001b[39;00m fetched:\n\u001b[0;32m     36\u001b[0m     \u001b[39mtry\u001b[39;00m:\n\u001b[1;32m---> 37\u001b[0m         build_payload(timeframe\u001b[39m=\u001b[39;49mtimeframe)\n\u001b[0;32m     38\u001b[0m     \u001b[39mexcept\u001b[39;00m ResponseError \u001b[39mas\u001b[39;00m err:\n\u001b[0;32m     39\u001b[0m         \u001b[39mprint\u001b[39m(err)\n",
      "File \u001b[1;32mc:\\Users\\monis\\anaconda3\\lib\\site-packages\\pytrends\\request.py:189\u001b[0m, in \u001b[0;36mTrendReq.build_payload\u001b[1;34m(self, kw_list, cat, timeframe, geo, gprop)\u001b[0m\n\u001b[0;32m    187\u001b[0m \u001b[39mself\u001b[39m\u001b[39m.\u001b[39mtoken_payload[\u001b[39m'\u001b[39m\u001b[39mreq\u001b[39m\u001b[39m'\u001b[39m] \u001b[39m=\u001b[39m json\u001b[39m.\u001b[39mdumps(\u001b[39mself\u001b[39m\u001b[39m.\u001b[39mtoken_payload[\u001b[39m'\u001b[39m\u001b[39mreq\u001b[39m\u001b[39m'\u001b[39m])\n\u001b[0;32m    188\u001b[0m \u001b[39m# get tokens\u001b[39;00m\n\u001b[1;32m--> 189\u001b[0m \u001b[39mself\u001b[39;49m\u001b[39m.\u001b[39;49m_tokens()\n\u001b[0;32m    190\u001b[0m \u001b[39mreturn\u001b[39;00m\n",
      "File \u001b[1;32mc:\\Users\\monis\\anaconda3\\lib\\site-packages\\pytrends\\request.py:195\u001b[0m, in \u001b[0;36mTrendReq._tokens\u001b[1;34m(self)\u001b[0m\n\u001b[0;32m    193\u001b[0m \u001b[39m\"\"\"Makes request to Google to get API tokens for interest over time, interest by region and related queries\"\"\"\u001b[39;00m\n\u001b[0;32m    194\u001b[0m \u001b[39m# make the request and parse the returned json\u001b[39;00m\n\u001b[1;32m--> 195\u001b[0m widget_dicts \u001b[39m=\u001b[39m \u001b[39mself\u001b[39;49m\u001b[39m.\u001b[39;49m_get_data(\n\u001b[0;32m    196\u001b[0m     url\u001b[39m=\u001b[39;49mTrendReq\u001b[39m.\u001b[39;49mGENERAL_URL,\n\u001b[0;32m    197\u001b[0m     method\u001b[39m=\u001b[39;49mTrendReq\u001b[39m.\u001b[39;49mPOST_METHOD,\n\u001b[0;32m    198\u001b[0m     params\u001b[39m=\u001b[39;49m\u001b[39mself\u001b[39;49m\u001b[39m.\u001b[39;49mtoken_payload,\n\u001b[0;32m    199\u001b[0m     trim_chars\u001b[39m=\u001b[39;49m\u001b[39m4\u001b[39;49m,\n\u001b[0;32m    200\u001b[0m )[\u001b[39m'\u001b[39m\u001b[39mwidgets\u001b[39m\u001b[39m'\u001b[39m]\n\u001b[0;32m    201\u001b[0m \u001b[39m# order of the json matters...\u001b[39;00m\n\u001b[0;32m    202\u001b[0m first_region_token \u001b[39m=\u001b[39m \u001b[39mTrue\u001b[39;00m\n",
      "File \u001b[1;32mc:\\Users\\monis\\anaconda3\\lib\\site-packages\\pytrends\\request.py:136\u001b[0m, in \u001b[0;36mTrendReq._get_data\u001b[1;34m(self, url, method, trim_chars, **kwargs)\u001b[0m\n\u001b[0;32m    134\u001b[0m     s\u001b[39m.\u001b[39mproxies\u001b[39m.\u001b[39mupdate({\u001b[39m'\u001b[39m\u001b[39mhttps\u001b[39m\u001b[39m'\u001b[39m: \u001b[39mself\u001b[39m\u001b[39m.\u001b[39mproxies[\u001b[39mself\u001b[39m\u001b[39m.\u001b[39mproxy_index]})\n\u001b[0;32m    135\u001b[0m \u001b[39mif\u001b[39;00m method \u001b[39m==\u001b[39m TrendReq\u001b[39m.\u001b[39mPOST_METHOD:\n\u001b[1;32m--> 136\u001b[0m     response \u001b[39m=\u001b[39m s\u001b[39m.\u001b[39mpost(url, timeout\u001b[39m=\u001b[39m\u001b[39mself\u001b[39m\u001b[39m.\u001b[39mtimeout,\n\u001b[0;32m    137\u001b[0m                       cookies\u001b[39m=\u001b[39m\u001b[39mself\u001b[39m\u001b[39m.\u001b[39mcookies, \u001b[39m*\u001b[39m\u001b[39m*\u001b[39mkwargs,\n\u001b[0;32m    138\u001b[0m                       \u001b[39m*\u001b[39m\u001b[39m*\u001b[39m\u001b[39mself\u001b[39m\u001b[39m.\u001b[39mrequests_args)  \u001b[39m# DO NOT USE retries or backoff_factor here\u001b[39;00m\n\u001b[0;32m    139\u001b[0m \u001b[39melse\u001b[39;00m:\n\u001b[0;32m    140\u001b[0m     response \u001b[39m=\u001b[39m s\u001b[39m.\u001b[39mget(url, timeout\u001b[39m=\u001b[39m\u001b[39mself\u001b[39m\u001b[39m.\u001b[39mtimeout, cookies\u001b[39m=\u001b[39m\u001b[39mself\u001b[39m\u001b[39m.\u001b[39mcookies,\n\u001b[0;32m    141\u001b[0m                      \u001b[39m*\u001b[39m\u001b[39m*\u001b[39mkwargs, \u001b[39m*\u001b[39m\u001b[39m*\u001b[39m\u001b[39mself\u001b[39m\u001b[39m.\u001b[39mrequests_args)  \u001b[39m# DO NOT USE retries or backoff_factor here\u001b[39;00m\n",
      "File \u001b[1;32mc:\\Users\\monis\\anaconda3\\lib\\site-packages\\requests\\sessions.py:577\u001b[0m, in \u001b[0;36mSession.post\u001b[1;34m(self, url, data, json, **kwargs)\u001b[0m\n\u001b[0;32m    566\u001b[0m \u001b[39mdef\u001b[39;00m \u001b[39mpost\u001b[39m(\u001b[39mself\u001b[39m, url, data\u001b[39m=\u001b[39m\u001b[39mNone\u001b[39;00m, json\u001b[39m=\u001b[39m\u001b[39mNone\u001b[39;00m, \u001b[39m*\u001b[39m\u001b[39m*\u001b[39mkwargs):\n\u001b[0;32m    567\u001b[0m     \u001b[39mr\u001b[39m\u001b[39m\"\"\"Sends a POST request. Returns :class:`Response` object.\u001b[39;00m\n\u001b[0;32m    568\u001b[0m \n\u001b[0;32m    569\u001b[0m \u001b[39m    :param url: URL for the new :class:`Request` object.\u001b[39;00m\n\u001b[1;32m   (...)\u001b[0m\n\u001b[0;32m    574\u001b[0m \u001b[39m    :rtype: requests.Response\u001b[39;00m\n\u001b[0;32m    575\u001b[0m \u001b[39m    \"\"\"\u001b[39;00m\n\u001b[1;32m--> 577\u001b[0m     \u001b[39mreturn\u001b[39;00m \u001b[39mself\u001b[39m\u001b[39m.\u001b[39mrequest(\u001b[39m'\u001b[39m\u001b[39mPOST\u001b[39m\u001b[39m'\u001b[39m, url, data\u001b[39m=\u001b[39mdata, json\u001b[39m=\u001b[39mjson, \u001b[39m*\u001b[39m\u001b[39m*\u001b[39mkwargs)\n",
      "File \u001b[1;32mc:\\Users\\monis\\anaconda3\\lib\\site-packages\\requests\\sessions.py:529\u001b[0m, in \u001b[0;36mSession.request\u001b[1;34m(self, method, url, params, data, headers, cookies, files, auth, timeout, allow_redirects, proxies, hooks, stream, verify, cert, json)\u001b[0m\n\u001b[0;32m    524\u001b[0m send_kwargs \u001b[39m=\u001b[39m {\n\u001b[0;32m    525\u001b[0m     \u001b[39m'\u001b[39m\u001b[39mtimeout\u001b[39m\u001b[39m'\u001b[39m: timeout,\n\u001b[0;32m    526\u001b[0m     \u001b[39m'\u001b[39m\u001b[39mallow_redirects\u001b[39m\u001b[39m'\u001b[39m: allow_redirects,\n\u001b[0;32m    527\u001b[0m }\n\u001b[0;32m    528\u001b[0m send_kwargs\u001b[39m.\u001b[39mupdate(settings)\n\u001b[1;32m--> 529\u001b[0m resp \u001b[39m=\u001b[39m \u001b[39mself\u001b[39m\u001b[39m.\u001b[39msend(prep, \u001b[39m*\u001b[39m\u001b[39m*\u001b[39msend_kwargs)\n\u001b[0;32m    531\u001b[0m \u001b[39mreturn\u001b[39;00m resp\n",
      "File \u001b[1;32mc:\\Users\\monis\\anaconda3\\lib\\site-packages\\requests\\sessions.py:645\u001b[0m, in \u001b[0;36mSession.send\u001b[1;34m(self, request, **kwargs)\u001b[0m\n\u001b[0;32m    642\u001b[0m start \u001b[39m=\u001b[39m preferred_clock()\n\u001b[0;32m    644\u001b[0m \u001b[39m# Send the request\u001b[39;00m\n\u001b[1;32m--> 645\u001b[0m r \u001b[39m=\u001b[39m adapter\u001b[39m.\u001b[39msend(request, \u001b[39m*\u001b[39m\u001b[39m*\u001b[39mkwargs)\n\u001b[0;32m    647\u001b[0m \u001b[39m# Total elapsed time of the request (approximately)\u001b[39;00m\n\u001b[0;32m    648\u001b[0m elapsed \u001b[39m=\u001b[39m preferred_clock() \u001b[39m-\u001b[39m start\n",
      "File \u001b[1;32mc:\\Users\\monis\\anaconda3\\lib\\site-packages\\requests\\adapters.py:532\u001b[0m, in \u001b[0;36mHTTPAdapter.send\u001b[1;34m(self, request, stream, timeout, verify, cert, proxies)\u001b[0m\n\u001b[0;32m    530\u001b[0m     \u001b[39mraise\u001b[39;00m SSLError(e, request\u001b[39m=\u001b[39mrequest)\n\u001b[0;32m    531\u001b[0m \u001b[39melif\u001b[39;00m \u001b[39misinstance\u001b[39m(e, ReadTimeoutError):\n\u001b[1;32m--> 532\u001b[0m     \u001b[39mraise\u001b[39;00m ReadTimeout(e, request\u001b[39m=\u001b[39mrequest)\n\u001b[0;32m    533\u001b[0m \u001b[39melif\u001b[39;00m \u001b[39misinstance\u001b[39m(e, _InvalidHeader):\n\u001b[0;32m    534\u001b[0m     \u001b[39mraise\u001b[39;00m InvalidHeader(e, request\u001b[39m=\u001b[39mrequest)\n",
      "\u001b[1;31mReadTimeout\u001b[0m: HTTPSConnectionPool(host='trends.google.com', port=443): Read timed out. (read timeout=2)"
     ]
    }
   ],
   "source": [
    "from pytrendsdaily import getDailyData\n",
    "\n",
    "# Set up query parameters\n",
    "keyword = \"Typescript\"\n",
    "start_year = 2018\n",
    "end_year = 2020\n",
    "\n",
    "# Get daily historical data\n",
    "historical_data = getDailyData(keyword, start_year, end_year, verbose=False)\n",
    "print(historical_data)\n"
   ]
  },
  {
   "cell_type": "code",
   "execution_count": null,
   "metadata": {},
   "outputs": [
    {
     "name": "stdout",
     "output_type": "stream",
     "text": [
      "                Typescript\n",
      "geoName                   \n",
      "Afghanistan              0\n",
      "Albania                  0\n",
      "Algeria                  0\n",
      "American Samoa           0\n",
      "Andorra                  0\n",
      "...                    ...\n",
      "Western Sahara           0\n",
      "Yemen                    0\n",
      "Zambia                   0\n",
      "Zimbabwe                 0\n",
      "Åland Islands            0\n",
      "\n",
      "[250 rows x 1 columns]\n"
     ]
    }
   ],
   "source": [
    "interest_by_region_df = pytrends.interest_by_region()\n",
    "print(interest_by_region_df)"
   ]
  },
  {
   "cell_type": "code",
   "execution_count": null,
   "metadata": {},
   "outputs": [
    {
     "name": "stdout",
     "output_type": "stream",
     "text": [
      "None\n"
     ]
    }
   ],
   "source": [
    "top_charts_df = pytrends.top_charts(date='2023', hl='en-US', tz=360)\n",
    "print(top_charts_df)"
   ]
  },
  {
   "cell_type": "code",
   "execution_count": null,
   "metadata": {},
   "outputs": [
    {
     "name": "stdout",
     "output_type": "stream",
     "text": [
      "{'top':                        query  value\n",
      "0            type typescript    100\n",
      "1           typescript react     84\n",
      "2                      react     84\n",
      "3                 javascript     66\n",
      "4           array typescript     59\n",
      "5              typescript is     56\n",
      "6                    angular     52\n",
      "7          typescript object     50\n",
      "8         angular typescript     49\n",
      "9             typescript for     40\n",
      "10       typescript function     38\n",
      "11      interface typescript     32\n",
      "12          typescript class     28\n",
      "13            typescript npm     25\n",
      "14                       npm     23\n",
      "15                      node     23\n",
      "16           typescript node     23\n",
      "17          typescript types     22\n",
      "18                        ts     20\n",
      "19         typescript import     20\n",
      "20           enum typescript     20\n",
      "21  typescript to javascript     20\n",
      "22        typescript example     18\n",
      "23            map typescript     18\n",
      "24             typescript or     17, 'rising':                                            query  value\n",
      "0                                           vite  41500\n",
      "1                            usestate typescript  40300\n",
      "2                                       tailwind  38700\n",
      "3                                  redux toolkit  14050\n",
      "4   cannot use import statement outside a module  10500\n",
      "5                                    react hooks   8900\n",
      "6                                          figma   5500\n",
      "7                              nextjs typescript   4800\n",
      "8                   react typescript cheat sheet   4650\n",
      "9                              useref typescript   4300\n",
      "10                                        nextjs   4050\n",
      "11                                           npx   3350\n",
      "12                                       fastify   3350\n",
      "13                      typescript utility types   3000\n",
      "14                                        nestjs   2900\n",
      "15                                cra typescript   2900\n",
      "16                            cypress typescript   2050\n",
      "17                                       next js   1950\n",
      "18                            next js typescript   1800\n",
      "19                               typescript omit   1200\n",
      "20                  typescript optional chaining    950\n",
      "21                                       next.js    900\n",
      "22                  styled components typescript    850\n",
      "23                               nuxt typescript    850\n",
      "24                                     storybook    800}\n"
     ]
    }
   ],
   "source": [
    "related_queries_dict = pytrends.related_queries()\n",
    "print(related_queries_dict[keyword])"
   ]
  },
  {
   "cell_type": "code",
   "execution_count": null,
   "metadata": {},
   "outputs": [
    {
     "name": "stdout",
     "output_type": "stream",
     "text": [
      "[{'mid': '/m/0n50hxv', 'title': 'TypeScript', 'type': 'High-level programming language'}, {'mid': '/g/11fk93s_gc', 'title': 'Narrative Economics: How Stories Go Viral and Drive Major Economic Events', 'type': 'Book by Robert J. Shiller'}, {'mid': '/g/11j8g7vhmj', 'title': 'Man Into Woman: A Comparative Scholarly Edition', 'type': 'Book by Lili Elbe'}, {'mid': '/g/11gxmlwqkj', 'title': 'Map. typescript.', 'type': 'Topic'}, {'mid': '/g/11ddw_9sb4', 'title': 'typescript', 'type': 'Topic'}]\n"
     ]
    }
   ],
   "source": [
    "keyword_suggestions = pytrends.suggestions(keyword)\n",
    "print(keyword_suggestions)"
   ]
  }
 ],
 "metadata": {
  "kernelspec": {
   "display_name": "Python 3",
   "language": "python",
   "name": "python3"
  },
  "language_info": {
   "codemirror_mode": {
    "name": "ipython",
    "version": 3
   },
   "file_extension": ".py",
   "mimetype": "text/x-python",
   "name": "python",
   "nbconvert_exporter": "python",
   "pygments_lexer": "ipython3",
   "version": "3.9.12"
  },
  "orig_nbformat": 4
 },
 "nbformat": 4,
 "nbformat_minor": 2
}
