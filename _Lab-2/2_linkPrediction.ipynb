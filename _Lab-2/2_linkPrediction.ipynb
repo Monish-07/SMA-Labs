{
 "cells": [
  {
   "cell_type": "code",
   "execution_count": null,
   "metadata": {},
   "outputs": [],
   "source": [
    "import networkx as nx\n",
    "\n",
    "def link_prediction(graph):\n",
    "    predicted_links = []\n",
    "    non_edges = nx.non_edges(graph)\n",
    "    \n",
    "    for u, v in non_edges:\n",
    "        neighbors_u = set(graph.neighbors(u))\n",
    "        neighbors_v = set(graph.neighbors(v))\n",
    "        \n",
    "        jaccard_coefficient = len(neighbors_u.intersection(neighbors_v)) / len(neighbors_u.union(neighbors_v))\n",
    "        \n",
    "        predicted_links.append((u, v, jaccard_coefficient))\n",
    "    \n",
    "    predicted_links = sorted(predicted_links, key=lambda x: x[2], reverse=True)\n",
    "    \n",
    "    return predicted_links\n",
    "\n",
    "# Example usage\n",
    "G = nx.Graph()\n",
    "G.add_edges_from([(1, 2), (1, 3), (2, 3), (2, 4), (3, 4), (3, 5)])\n",
    "\n",
    "predicted_links = link_prediction(G)\n",
    "print(\"Predicted links (sorted by Jaccard coefficient):\")\n",
    "for u, v, score in predicted_links:\n",
    "    print(f\"{u} - {v}: {score}\")\n"
   ]
  },
  {
   "cell_type": "code",
   "execution_count": 1,
   "metadata": {},
   "outputs": [],
   "source": [
    "import networkx as nx"
   ]
  },
  {
   "cell_type": "code",
   "execution_count": 2,
   "metadata": {},
   "outputs": [],
   "source": [
    "def link_prediction(graph):\n",
    "    predicted_links = []\n",
    "    non_edges = nx.non_edges(graph)\n",
    "    \n",
    "    for u, v in non_edges:\n",
    "        neighbors_u = set(graph.neighbors(u))\n",
    "        neighbors_v = set(graph.neighbors(v))\n",
    "        \n",
    "        jaccard_coefficient = len(neighbors_u.intersection(neighbors_v)) / len(neighbors_u.union(neighbors_v))\n",
    "        \n",
    "        predicted_links.append((u, v, jaccard_coefficient))\n",
    "    \n",
    "    predicted_links = sorted(predicted_links, key=lambda x: x[2], reverse=True)\n",
    "    \n",
    "    return predicted_links"
   ]
  },
  {
   "cell_type": "code",
   "execution_count": 3,
   "metadata": {},
   "outputs": [],
   "source": [
    "# Example usage\n",
    "G = nx.Graph()\n",
    "G.add_edges_from([(1, 2),(1, 3),(2, 3),(2, 4),(3, 4),(3, 5)])\n"
   ]
  },
  {
   "cell_type": "code",
   "execution_count": 4,
   "metadata": {},
   "outputs": [
    {
     "name": "stdout",
     "output_type": "stream",
     "text": [
      "Predicted links (sorted by Jaccard coefficient):\n",
      "1 - 4: 1.0\n",
      "1 - 5: 0.5\n",
      "4 - 5: 0.5\n",
      "2 - 5: 0.3333333333333333\n"
     ]
    }
   ],
   "source": [
    "predicted_links = link_prediction(G)\n",
    "print(\"Predicted links (sorted by Jaccard coefficient):\")\n",
    "for u, v, score in predicted_links:\n",
    "    print(f\"{u} - {v}: {score}\")"
   ]
  }
 ],
 "metadata": {
  "kernelspec": {
   "display_name": "base",
   "language": "python",
   "name": "python3"
  },
  "language_info": {
   "codemirror_mode": {
    "name": "ipython",
    "version": 3
   },
   "file_extension": ".py",
   "mimetype": "text/x-python",
   "name": "python",
   "nbconvert_exporter": "python",
   "pygments_lexer": "ipython3",
   "version": "3.9.12"
  },
  "orig_nbformat": 4
 },
 "nbformat": 4,
 "nbformat_minor": 2
}
