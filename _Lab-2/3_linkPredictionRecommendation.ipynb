{
 "cells": [
  {
   "cell_type": "code",
   "execution_count": null,
   "metadata": {},
   "outputs": [],
   "source": [
    "import networkx as nx\n",
    "from gensim.models import Word2Vec\n",
    "from node2vec import Node2Vec\n",
    "import numpy as np\n",
    "\n",
    "G = nx.Graph()\n",
    "G.add_edge(\"A\", \"B\")\n",
    "G.add_edge(\"B\", \"C\")\n",
    "G.add_edge(\"C\", \"D\")\n",
    "# Add more edges as needed\n",
    "\n",
    "# Set the hyperparameters\n",
    "p = 1  # Return hyperparameter\n",
    "q = 0.5  # In-out hyperparameter\n",
    "dimensions = 128  # Dimensions of node embeddings\n",
    "walk_length = 10  # Length of each random walk\n",
    "num_walks = 100  # Number of random walks to perform\n",
    "\n",
    "# Generate random walks\n",
    "node2vec = Node2Vec(G, dimensions=dimensions, walk_length=walk_length, num_walks=num_walks, p=p, q=q)\n",
    "model = node2vec.fit(window=10, min_count=1, batch_words=4)\n",
    "\n",
    "# Extract node embeddings\n",
    "node_embeddings = {}\n",
    "for node in G.nodes():\n",
    "    node_embeddings[node] = model.wv[node]\n",
    "\n",
    "def cosine_similarity(u, v):\n",
    "    return np.dot(u, v) / (np.linalg.norm(u) * np.linalg.norm(v))\n",
    "\n",
    "def calculate_similarity(node1, node2):\n",
    "    embedding1 = node_embeddings[node1]\n",
    "    embedding2 = node_embeddings[node2]\n",
    "    return cosine_similarity(embedding1, embedding2)\n",
    "\n",
    "similarity_score = calculate_similarity(\"A\", \"D\")\n",
    "print(similarity_score)\n",
    "\n",
    "def recommend_connections(node, top_k=5):\n",
    "    scores = []\n",
    "    for other_node in G.nodes():\n",
    "        if node != other_node:\n",
    "            similarity = calculate_similarity(node, other_node)\n",
    "            scores.append((other_node, similarity))\n",
    "    scores.sort(key=lambda x: x[1], reverse=True)\n",
    "    return scores[:top_k]\n",
    "\n",
    "recommendations = recommend_connections(\"A\", top_k=3)\n",
    "print(recommendations)"
   ]
  },
  {
   "cell_type": "code",
   "execution_count": 9,
   "metadata": {},
   "outputs": [
    {
     "name": "stdout",
     "output_type": "stream",
     "text": [
      "Requirement already satisfied: node2vec in c:\\users\\monis\\anaconda3\\lib\\site-packages (0.4.6)\n",
      "Requirement already satisfied: gensim<5.0.0,>=4.1.2 in c:\\users\\monis\\anaconda3\\lib\\site-packages (from node2vec) (4.1.2)\n",
      "Requirement already satisfied: tqdm<5.0.0,>=4.55.1 in c:\\users\\monis\\anaconda3\\lib\\site-packages (from node2vec) (4.64.0)\n",
      "Requirement already satisfied: joblib<2.0.0,>=1.1.0 in c:\\users\\monis\\anaconda3\\lib\\site-packages (from node2vec) (1.1.0)\n",
      "Requirement already satisfied: networkx<3.0,>=2.5 in c:\\users\\monis\\anaconda3\\lib\\site-packages (from node2vec) (2.7.1)\n",
      "Requirement already satisfied: numpy<2.0.0,>=1.19.5 in c:\\users\\monis\\anaconda3\\lib\\site-packages (from node2vec) (1.21.5)\n",
      "Requirement already satisfied: scipy>=0.18.1 in c:\\users\\monis\\anaconda3\\lib\\site-packages (from gensim<5.0.0,>=4.1.2->node2vec) (1.7.3)\n",
      "Requirement already satisfied: smart-open>=1.8.1 in c:\\users\\monis\\anaconda3\\lib\\site-packages (from gensim<5.0.0,>=4.1.2->node2vec) (5.1.0)\n",
      "Requirement already satisfied: colorama in c:\\users\\monis\\anaconda3\\lib\\site-packages (from tqdm<5.0.0,>=4.55.1->node2vec) (0.4.4)\n"
     ]
    }
   ],
   "source": [
    "!pip install node2vec"
   ]
  },
  {
   "cell_type": "code",
   "execution_count": 10,
   "metadata": {},
   "outputs": [],
   "source": [
    "import networkx as nx\n",
    "from gensim.models import Word2Vec\n",
    "from node2vec import Node2Vec\n",
    "import numpy as np"
   ]
  },
  {
   "cell_type": "code",
   "execution_count": 11,
   "metadata": {},
   "outputs": [],
   "source": [
    "G = nx.Graph()\n",
    "G.add_edge(\"A\", \"B\")\n",
    "G.add_edge(\"B\", \"C\")\n",
    "G.add_edge(\"C\", \"D\")\n",
    "# Add more edges as needed"
   ]
  },
  {
   "cell_type": "code",
   "execution_count": 12,
   "metadata": {},
   "outputs": [
    {
     "data": {
      "application/vnd.jupyter.widget-view+json": {
       "model_id": "98faf751da344be2aaabb7b55ef3ac4a",
       "version_major": 2,
       "version_minor": 0
      },
      "text/plain": [
       "Computing transition probabilities:   0%|          | 0/4 [00:00<?, ?it/s]"
      ]
     },
     "metadata": {},
     "output_type": "display_data"
    },
    {
     "name": "stderr",
     "output_type": "stream",
     "text": [
      "Generating walks (CPU: 1): 100%|██████████| 100/100 [00:00<00:00, 6249.99it/s]"
     ]
    },
    {
     "name": "stderr",
     "output_type": "stream",
     "text": [
      "\n"
     ]
    }
   ],
   "source": [
    "# Set the hyperparameters\n",
    "p = 1  # Return hyperparameter\n",
    "q = 0.5  # In-out hyperparameter\n",
    "dimensions = 128  # Dimensions of node embeddings\n",
    "walk_length = 10  # Length of each random walk\n",
    "num_walks = 100  # Number of random walks to perform\n",
    "\n",
    "# Generate random walks\n",
    "node2vec = Node2Vec(G, dimensions=dimensions, walk_length=walk_length, num_walks=num_walks, p=p, q=q)\n",
    "model = node2vec.fit(window=10, min_count=1, batch_words=4)"
   ]
  },
  {
   "cell_type": "code",
   "execution_count": 13,
   "metadata": {},
   "outputs": [],
   "source": [
    "# Extract node embeddings\n",
    "node_embeddings = {}\n",
    "for node in G.nodes():\n",
    "    node_embeddings[node] = model.wv[node]"
   ]
  },
  {
   "cell_type": "code",
   "execution_count": 14,
   "metadata": {},
   "outputs": [],
   "source": [
    "def cosine_similarity(u, v):\n",
    "    return np.dot(u, v) / (np.linalg.norm(u) * np.linalg.norm(v))\n",
    "\n",
    "def calculate_similarity(node1, node2):\n",
    "    embedding1 = node_embeddings[node1]\n",
    "    embedding2 = node_embeddings[node2]\n",
    "    return cosine_similarity(embedding1, embedding2)"
   ]
  },
  {
   "cell_type": "code",
   "execution_count": 15,
   "metadata": {},
   "outputs": [
    {
     "name": "stdout",
     "output_type": "stream",
     "text": [
      "0.93770134\n"
     ]
    }
   ],
   "source": [
    "similarity_score = calculate_similarity(\"A\", \"D\")\n",
    "print(similarity_score)"
   ]
  },
  {
   "cell_type": "code",
   "execution_count": 16,
   "metadata": {},
   "outputs": [
    {
     "name": "stdout",
     "output_type": "stream",
     "text": [
      "[('C', 0.9676869), ('B', 0.9637721), ('D', 0.93770134)]\n"
     ]
    }
   ],
   "source": [
    "def recommend_connections(node, top_k=5):\n",
    "    scores = []\n",
    "    for other_node in G.nodes():\n",
    "        if node != other_node:\n",
    "            similarity = calculate_similarity(node, other_node)\n",
    "            scores.append((other_node, similarity))\n",
    "    scores.sort(key=lambda x: x[1], reverse=True)\n",
    "    return scores[:top_k]\n",
    "\n",
    "recommendations = recommend_connections(\"A\", top_k=3)\n",
    "print(recommendations)"
   ]
  }
 ],
 "metadata": {
  "kernelspec": {
   "display_name": "base",
   "language": "python",
   "name": "python3"
  },
  "language_info": {
   "codemirror_mode": {
    "name": "ipython",
    "version": 3
   },
   "file_extension": ".py",
   "mimetype": "text/x-python",
   "name": "python",
   "nbconvert_exporter": "python",
   "pygments_lexer": "ipython3",
   "version": "3.9.12"
  },
  "orig_nbformat": 4
 },
 "nbformat": 4,
 "nbformat_minor": 2
}
