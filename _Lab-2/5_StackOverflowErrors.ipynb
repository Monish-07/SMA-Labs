{
 "cells": [
  {
   "cell_type": "code",
   "execution_count": null,
   "metadata": {},
   "outputs": [],
   "source": [
    "from stackapi import StackAPI\n",
    "\n",
    "def search_stack_overflow(query):\n",
    "    SITE = StackAPI('stackoverflow')\n",
    "\n",
    "    # Search for questions containing the query in the title or body\n",
    "    questions = SITE.fetch('search', intitle=query, sort='relevance')\n",
    "\n",
    "    results = []\n",
    "    for question in questions['items']:\n",
    "        result = {\n",
    "            'title': question['title'],\n",
    "            'link': question['link']\n",
    "        }\n",
    "        results.append(result)\n",
    "\n",
    "    return results\n",
    "\n",
    "# Example usage\n",
    "search_query = 'python error: list index out of range'\n",
    "results = search_stack_overflow(search_query)\n",
    "print(\"Stack Overflow results for the search query:\\n\")\n",
    "for result in results:\n",
    "    print(f\"Title: {result['title']}\")\n",
    "    print(f\"Link: {result['link']}\")\n",
    "    print()\n"
   ]
  },
  {
   "cell_type": "code",
   "execution_count": 4,
   "metadata": {},
   "outputs": [
    {
     "name": "stdout",
     "output_type": "stream",
     "text": [
      "Collecting stackapi\n",
      "  Downloading StackAPI-0.2.0.tar.gz (5.6 kB)\n",
      "Requirement already satisfied: requests in c:\\users\\monis\\anaconda3\\lib\\site-packages (from stackapi) (2.27.1)\n",
      "Requirement already satisfied: six in c:\\users\\monis\\anaconda3\\lib\\site-packages (from stackapi) (1.16.0)\n",
      "Requirement already satisfied: idna<4,>=2.5 in c:\\users\\monis\\anaconda3\\lib\\site-packages (from requests->stackapi) (3.3)\n",
      "Requirement already satisfied: charset-normalizer~=2.0.0 in c:\\users\\monis\\anaconda3\\lib\\site-packages (from requests->stackapi) (2.0.4)\n",
      "Requirement already satisfied: urllib3<1.27,>=1.21.1 in c:\\users\\monis\\anaconda3\\lib\\site-packages (from requests->stackapi) (1.26.9)\n",
      "Requirement already satisfied: certifi>=2017.4.17 in c:\\users\\monis\\anaconda3\\lib\\site-packages (from requests->stackapi) (2021.10.8)\n",
      "Building wheels for collected packages: stackapi\n",
      "  Building wheel for stackapi (setup.py): started\n",
      "  Building wheel for stackapi (setup.py): finished with status 'done'\n",
      "  Created wheel for stackapi: filename=StackAPI-0.2.0-py3-none-any.whl size=5858 sha256=0dbde6a4be44ba4f1906cc18f722db70fec201e4e39323b4bff8b2ced746dc85\n",
      "  Stored in directory: c:\\users\\monis\\appdata\\local\\pip\\cache\\wheels\\de\\58\\fe\\8bab7cf44d8b0bf32e46f1715df2ba8c97d475de95a20985ac\n",
      "Successfully built stackapi\n",
      "Installing collected packages: stackapi\n",
      "Successfully installed stackapi-0.2.0\n",
      "Note: you may need to restart the kernel to use updated packages.\n"
     ]
    }
   ],
   "source": [
    "pip install stackapi"
   ]
  },
  {
   "cell_type": "code",
   "execution_count": 5,
   "metadata": {},
   "outputs": [],
   "source": [
    "from stackapi import StackAPI"
   ]
  },
  {
   "cell_type": "code",
   "execution_count": 6,
   "metadata": {},
   "outputs": [],
   "source": [
    "def search_stack_overflow(query):\n",
    "    SITE = StackAPI('stackoverflow')\n",
    "\n",
    "    # Search for questions containing the query in the title or body\n",
    "    questions = SITE.fetch('search', intitle=query, sort='relevance')\n",
    "\n",
    "    results = []\n",
    "    for question in questions['items']:\n",
    "        result = {\n",
    "            'title': question['title'],\n",
    "            'link': question['link']\n",
    "        }\n",
    "        results.append(result)\n",
    "\n",
    "    return results"
   ]
  },
  {
   "cell_type": "code",
   "execution_count": 7,
   "metadata": {},
   "outputs": [
    {
     "name": "stdout",
     "output_type": "stream",
     "text": [
      "Stack Overflow results for the search query:\n",
      "\n",
      "Title: Python Error : list index out of range\n",
      "Link: https://stackoverflow.com/questions/52027330/python-error-list-index-out-of-range\n",
      "\n",
      "Title: Python error (list index out of range)\n",
      "Link: https://stackoverflow.com/questions/40834461/python-error-list-index-out-of-range\n",
      "\n",
      "Title: Python Error: list index out of range\n",
      "Link: https://stackoverflow.com/questions/20149966/python-error-list-index-out-of-range\n",
      "\n",
      "Title: Python error - list index out of range?\n",
      "Link: https://stackoverflow.com/questions/33845247/python-error-list-index-out-of-range\n",
      "\n",
      "Title: Python Error~ List index out of range\n",
      "Link: https://stackoverflow.com/questions/38808547/python-error-list-index-out-of-range\n",
      "\n",
      "Title: Sys.argv python error list index out of range\n",
      "Link: https://stackoverflow.com/questions/47664687/sys-argv-python-error-list-index-out-of-range\n",
      "\n",
      "Title: Gurobi Python Error: list index out of range\n",
      "Link: https://stackoverflow.com/questions/68170453/gurobi-python-error-list-index-out-of-range\n",
      "\n",
      "Title: python error list index out of range ( sorting )\n",
      "Link: https://stackoverflow.com/questions/22446925/python-error-list-index-out-of-range-sorting\n",
      "\n",
      "Title: Reading .csv in Python - error list index out of range\n",
      "Link: https://stackoverflow.com/questions/22620505/reading-csv-in-python-error-list-index-out-of-range\n",
      "\n",
      "Title: Python error - &quot;List index out of range&quot; on my code\n",
      "Link: https://stackoverflow.com/questions/74392937/python-error-list-index-out-of-range-on-my-code\n",
      "\n",
      "Title: Python error - List index out of range error but its not\n",
      "Link: https://stackoverflow.com/questions/56306369/python-error-list-index-out-of-range-error-but-its-not\n",
      "\n",
      "Title: Python error list index out of range when reading from CSV\n",
      "Link: https://stackoverflow.com/questions/49190457/python-error-list-index-out-of-range-when-reading-from-csv\n",
      "\n",
      "Title: Python Error &#39;list index out of range&#39; When Using Split Function\n",
      "Link: https://stackoverflow.com/questions/38689515/python-error-list-index-out-of-range-when-using-split-function\n",
      "\n",
      "Title: unable to connect to SharePoint using python error: list index out of range?\n",
      "Link: https://stackoverflow.com/questions/72211086/unable-to-connect-to-sharepoint-using-python-error-list-index-out-of-range\n",
      "\n",
      "Title: Python error - List index out of range. Other fixes don&#39;t seem to work\n",
      "Link: https://stackoverflow.com/questions/52088236/python-error-list-index-out-of-range-other-fixes-dont-seem-to-work\n",
      "\n",
      "Title: Parsing Xml file using python Error: list index out of range for threshold\n",
      "Link: https://stackoverflow.com/questions/28024893/parsing-xml-file-using-python-error-list-index-out-of-range-for-threshold\n",
      "\n",
      "Title: AutoDock: MGLTools Python, error list index out of range, using MGL version 1.5.7\n",
      "Link: https://stackoverflow.com/questions/71397387/autodock-mgltools-python-error-list-index-out-of-range-using-mgl-version-1-5\n",
      "\n"
     ]
    }
   ],
   "source": [
    "# Example usage\n",
    "search_query = 'python error: list index out of range'\n",
    "results = search_stack_overflow(search_query)\n",
    "print(\"Stack Overflow results for the search query:\\n\")\n",
    "for result in results:\n",
    "    print(f\"Title: {result['title']}\")\n",
    "    print(f\"Link: {result['link']}\")\n",
    "    print()"
   ]
  }
 ],
 "metadata": {
  "kernelspec": {
   "display_name": "base",
   "language": "python",
   "name": "python3"
  },
  "language_info": {
   "codemirror_mode": {
    "name": "ipython",
    "version": 3
   },
   "file_extension": ".py",
   "mimetype": "text/x-python",
   "name": "python",
   "nbconvert_exporter": "python",
   "pygments_lexer": "ipython3",
   "version": "3.9.12"
  },
  "orig_nbformat": 4
 },
 "nbformat": 4,
 "nbformat_minor": 2
}
