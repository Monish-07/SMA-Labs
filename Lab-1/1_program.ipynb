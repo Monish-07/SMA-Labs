{
 "cells": [
  {
   "cell_type": "code",
   "execution_count": null,
   "metadata": {},
   "outputs": [],
   "source": [
    "# 1.\n",
    "# Write a python program to\n",
    "# i. crawl a social media web page\n",
    "# ii. scrap all email ids present in the webpage\n",
    "# iii. Store the email ids scraped in a csv file"
   ]
  },
  {
   "cell_type": "code",
   "execution_count": 1,
   "metadata": {},
   "outputs": [
    {
     "name": "stdout",
     "output_type": "stream",
     "text": [
      "Crawling URL www.wikipedia.org\n"
     ]
    }
   ],
   "source": [
    "# Import Required modules\n",
    "import re\n",
    "import requests\n",
    "from urllib.parse import urlsplit\n",
    "from collections import deque\n",
    "from bs4 import BeautifulSoup\n",
    "import pandas as pd\n",
    "\n",
    "# Initialize Variables\n",
    "original_url = input(\"Enter the website url: \")\n",
    "unscraped = deque([original_url])\n",
    "scraped = set()\n",
    "emails = set()\n",
    "\n",
    "# Start scrapping\n",
    "while len(unscraped):\n",
    "    url = unscraped.popleft()\n",
    "    scraped.add(url)\n",
    "    parts = urlsplit(url)\n",
    "    base_url = \"{0.scheme}://{0.netloc}\".format(parts)\n",
    "    if '/' in parts.path:\n",
    "        path = url[:url.rfind('/')+1]\n",
    "    else:\n",
    "        path = url\n",
    "    print(\"Crawling URL %s\" % url)\n",
    "    try:\n",
    "        response = requests.get(url)\n",
    "    except (requests.exceptions.MissingSchema, requests.exceptions.ConnectionError):\n",
    "        continue\n",
    "    new_emails = set(re.findall(r\"[a-z0-9\\.\\-+_]+@[a-z0-9\\.\\-+_]+\\.com\",\n",
    "                                response.text, re.I))\n",
    "    emails.update(new_emails)\n",
    "    soup = BeautifulSoup(response.text, 'xml')\n",
    "    for anchor in soup.find_all(\"a\"):\n",
    "        if \"href\" in anchor.attrs:\n",
    "            link = anchor.attrs[\"href\"]\n",
    "        else:\n",
    "            link = ''\n",
    "            if link.startswith('/'):\n",
    "                link = base_url + link\n",
    "            elif not link.startswith('http'):\n",
    "                link = path + link\n",
    "            if not link.endswith(\".gz\"):\n",
    "                if not link in unscraped and not link in scraped:\n",
    "                    unscraped.append(link)\n",
    "\n",
    "df = pd.DataFrame(emails, columns=[\"Email\"])\n",
    "df.to_csv('email.csv', index=False)\n"
   ]
  }
 ],
 "metadata": {
  "kernelspec": {
   "display_name": "base",
   "language": "python",
   "name": "python3"
  },
  "language_info": {
   "codemirror_mode": {
    "name": "ipython",
    "version": 3
   },
   "file_extension": ".py",
   "mimetype": "text/x-python",
   "name": "python",
   "nbconvert_exporter": "python",
   "pygments_lexer": "ipython3",
   "version": "3.9.12"
  },
  "orig_nbformat": 4
 },
 "nbformat": 4,
 "nbformat_minor": 2
}
