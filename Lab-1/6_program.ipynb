{
 "cells": [
  {
   "cell_type": "code",
   "execution_count": null,
   "metadata": {},
   "outputs": [],
   "source": [
    "# 6.\n",
    "# Eight employees at a small company were asked to choose 3 movies that they would most enjoy\n",
    "# watching for the upcoming company movie night. These choices are stored in the\n",
    "# file Employee_Movie_Choices.txt. A second file, Employee_Relationships.txt, has data on the\n",
    "# relationships between different coworkers. The relationship score has value of -100 (Enemies)\n",
    "# to +100 (Best Friends). A value of zero means the two employees haven't interacted or are\n",
    "# indifferent.\n",
    "# Both files are tab delimited.\n",
    "# Address following questions using network:\n",
    "\n",
    "# i. load in the bipartite graph from Employee_Movie_Choices.txt and return that graph.\n",
    "\n",
    "# ii. Using the graph from the previous question, add nodes attributes named 'type' where\n",
    "# movies have the value 'movie' and employees have the value 'employee' and return that\n",
    "# graph. This function should return a networkx graph with node attributes {'type':\n",
    "# 'movie'} or {'type': 'employee'}\n",
    "\n",
    "# iii. Find a weighted projection of the graph from answer_two which tells us how many movies\n",
    "# different pairs of employees have in common.\n",
    "\n",
    "# iv. Find the Pearson correlation ( using DataFrame.corr() ) between employee relationship\n",
    "\n",
    "# scores and the number of movies they have in common. If two employees have no\n",
    "# movies in common it should be treated as a 0, not a missing value, and should be\n",
    "# included in the correlation calculation."
   ]
  }
 ],
 "metadata": {
  "language_info": {
   "name": "python"
  },
  "orig_nbformat": 4
 },
 "nbformat": 4,
 "nbformat_minor": 2
}
