{
 "cells": [
  {
   "attachments": {},
   "cell_type": "markdown",
   "metadata": {},
   "source": [
    "4.\n"
   ]
  },
  {
   "cell_type": "code",
   "execution_count": null,
   "metadata": {},
   "outputs": [],
   "source": [
    "# Consider the dataset in the link given below:\n",
    "# https://github.com/miladfa7/Social-Network-Analysis-in\n",
    "# Python/blob/master/facebook_combined.txt\n",
    "# Calculate and visualize\n",
    "# 1- Betweenness Centrality\n",
    "# 2- Degree Centrality\n",
    "# 3- Closeness Centrality\n",
    "# 4- Eigenvector Centrality using NetworkX in Python"
   ]
  },
  {
   "cell_type": "code",
   "execution_count": null,
   "metadata": {},
   "outputs": [],
   "source": [
    "# same as 7th"
   ]
  },
  {
   "cell_type": "code",
   "execution_count": null,
   "metadata": {},
   "outputs": [],
   "source": []
  },
  {
   "cell_type": "code",
   "execution_count": null,
   "metadata": {},
   "outputs": [],
   "source": []
  }
 ],
 "metadata": {
  "language_info": {
   "name": "python"
  },
  "orig_nbformat": 4
 },
 "nbformat": 4,
 "nbformat_minor": 2
}
